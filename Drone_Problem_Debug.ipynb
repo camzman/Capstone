{
 "cells": [
  {
   "cell_type": "markdown",
   "metadata": {},
   "source": [
    "# Drone Routing Optimization Problem"
   ]
  },
  {
   "cell_type": "markdown",
   "metadata": {},
   "source": [
    "## Model Initialization"
   ]
  },
  {
   "cell_type": "code",
   "execution_count": 1,
   "metadata": {},
   "outputs": [],
   "source": [
    "# import Glop linear solver package\n",
    "from ortools.linear_solver import pywraplp as glp\n",
    "import csv\n",
    "import numpy as np\n",
    "\n",
    "# initialize model object\n",
    "mymodel = glp.Solver('Drone Routing Problem', glp.Solver.CBC_MIXED_INTEGER_PROGRAMMING)"
   ]
  },
  {
   "cell_type": "markdown",
   "metadata": {},
   "source": [
    "## Parameters"
   ]
  },
  {
   "cell_type": "markdown",
   "metadata": {},
   "source": [
    "### Import distance matrix"
   ]
  },
  {
   "cell_type": "code",
   "execution_count": 2,
   "metadata": {},
   "outputs": [],
   "source": [
    "# import csv distance matrix as list\n",
    "with open('Orders_Data.csv', newline='') as f:\n",
    "    reader = csv.reader(f)\n",
    "    distance = list(reader)\n",
    "\n",
    "# remove blanks\n",
    "for i in range(len(distance)):\n",
    "    distance[i] = [item for item in distance[i] if item]\n",
    "distance = [item for item in distance if item]\n",
    "distance = np.array(distance, dtype = 'float')\n",
    "\n",
    "# Cost per unit of distance\n",
    "truck_cost_per_dist = 10.0\n",
    "drone_cost_per_dist = 3.0\n",
    "\n",
    "# Create cost matrices for truck & drone\n",
    "truck_cost = distance * truck_cost_per_dist\n",
    "drone_cost = distance * drone_cost_per_dist\n",
    "truck_cost = truck_cost.tolist()\n",
    "drone_cost = drone_cost.tolist()"
   ]
  },
  {
   "cell_type": "code",
   "execution_count": 3,
   "metadata": {},
   "outputs": [
    {
     "data": {
      "text/plain": [
       "[[0.0, 100.0, 81.0, 99.0, 61.0, 111.0, 16.0, 76.0, 67.0, 84.0, 102.0, 0.0],\n",
       " [100.0, 0.0, 97.0, 98.0, 41.0, 93.0, 97.0, 92.0, 48.0, 51.0, 9.0, 100.0],\n",
       " [81.0, 97.0, 0.0, 19.0, 66.0, 36.0, 66.0, 6.0, 51.0, 47.0, 92.0, 81.0],\n",
       " [99.0, 98.0, 19.0, 0.0, 74.0, 18.0, 84.0, 23.0, 58.0, 47.0, 92.0, 99.0],\n",
       " [61.0, 41.0, 66.0, 74.0, 0.0, 77.0, 56.0, 61.0, 17.0, 34.0, 42.0, 61.0],\n",
       " [111.0, 93.0, 36.0, 18.0, 77.0, 0.0, 97.0, 38.0, 60.0, 45.0, 86.0, 111.0],\n",
       " [16.0, 97.0, 66.0, 84.0, 56.0, 97.0, 0.0, 60.0, 59.0, 73.0, 98.0, 16.0],\n",
       " [76.0, 92.0, 6.0, 23.0, 61.0, 38.0, 60.0, 0.0, 46.0, 43.0, 88.0, 76.0],\n",
       " [67.0, 48.0, 51.0, 58.0, 17.0, 60.0, 59.0, 46.0, 0.0, 18.0, 45.0, 67.0],\n",
       " [84.0, 51.0, 47.0, 47.0, 34.0, 45.0, 73.0, 43.0, 18.0, 0.0, 45.0, 84.0],\n",
       " [102.0, 9.0, 92.0, 92.0, 42.0, 86.0, 98.0, 88.0, 45.0, 45.0, 0.0, 102.0]]"
      ]
     },
     "execution_count": 3,
     "metadata": {},
     "output_type": "execute_result"
    }
   ],
   "source": [
    "distance.tolist()"
   ]
  },
  {
   "cell_type": "markdown",
   "metadata": {},
   "source": [
    "### Initialize Model Parameters"
   ]
  },
  {
   "cell_type": "code",
   "execution_count": 4,
   "metadata": {},
   "outputs": [],
   "source": [
    "# model parameters\n",
    "R = list(range(1, len(distance))) # Nodes excluding origin & final 'dummy' node (1 to 10 index)\n",
    "N = list(range(len(distance))) # All nodes (0 to 11 index)\n",
    "M = len(distance) + 100 # Large number\n",
    "D = list(range(3)) # Drones onboard the truck (0 to 2 index)"
   ]
  },
  {
   "cell_type": "code",
   "execution_count": 5,
   "metadata": {},
   "outputs": [
    {
     "data": {
      "text/plain": [
       "[1, 2, 3, 4, 5, 6, 7, 8, 9, 10]"
      ]
     },
     "execution_count": 5,
     "metadata": {},
     "output_type": "execute_result"
    }
   ],
   "source": [
    "R"
   ]
  },
  {
   "cell_type": "markdown",
   "metadata": {},
   "source": [
    "## Decision Variables"
   ]
  },
  {
   "cell_type": "code",
   "execution_count": 6,
   "metadata": {},
   "outputs": [
    {
     "data": {
      "text/plain": [
       "[[0.0, 0.1, 0.2, 0.3, 0.4, 0.5, 0.6, 0.7, 0.8, 0.9, 0.10],\n",
       " [1.0, 1.1, 1.2, 1.3, 1.4, 1.5, 1.6, 1.7, 1.8, 1.9, 1.10],\n",
       " [2.0, 2.1, 2.2, 2.3, 2.4, 2.5, 2.6, 2.7, 2.8, 2.9, 2.10],\n",
       " [3.0, 3.1, 3.2, 3.3, 3.4, 3.5, 3.6, 3.7, 3.8, 3.9, 3.10],\n",
       " [4.0, 4.1, 4.2, 4.3, 4.4, 4.5, 4.6, 4.7, 4.8, 4.9, 4.10],\n",
       " [5.0, 5.1, 5.2, 5.3, 5.4, 5.5, 5.6, 5.7, 5.8, 5.9, 5.10],\n",
       " [6.0, 6.1, 6.2, 6.3, 6.4, 6.5, 6.6, 6.7, 6.8, 6.9, 6.10],\n",
       " [7.0, 7.1, 7.2, 7.3, 7.4, 7.5, 7.6, 7.7, 7.8, 7.9, 7.10],\n",
       " [8.0, 8.1, 8.2, 8.3, 8.4, 8.5, 8.6, 8.7, 8.8, 8.9, 8.10],\n",
       " [9.0, 9.1, 9.2, 9.3, 9.4, 9.5, 9.6, 9.7, 9.8, 9.9, 9.10],\n",
       " [10.0, 10.1, 10.2, 10.3, 10.4, 10.5, 10.6, 10.7, 10.8, 10.9, 10.10]]"
      ]
     },
     "execution_count": 6,
     "metadata": {},
     "output_type": "execute_result"
    }
   ],
   "source": [
    "# Truck path from node i to j\n",
    "dimensions = (int(len(N)), int(len(N))) # Create truck arc dimensions - 12 x 12 (11 x 11 index)\n",
    "truck_arc = np.zeros(dimensions).tolist() # create nested list\n",
    "for i in N:\n",
    "    for j in N:\n",
    "        truck_arc[i][j] = mymodel.IntVar(0, 1, str(i) + \".\" + str(j)) #create binary variable for each possible truck path\n",
    "truck_arc"
   ]
  },
  {
   "cell_type": "code",
   "execution_count": 7,
   "metadata": {},
   "outputs": [
    {
     "data": {
      "text/plain": [
       "[[0.0, 0.0, 0.0],\n",
       " [1.1.0, 1.1.1, 1.1.2],\n",
       " [1.2.0, 1.2.1, 1.2.2],\n",
       " [1.3.0, 1.3.1, 1.3.2],\n",
       " [1.4.0, 1.4.1, 1.4.2],\n",
       " [1.5.0, 1.5.1, 1.5.2],\n",
       " [1.6.0, 1.6.1, 1.6.2],\n",
       " [1.7.0, 1.7.1, 1.7.2],\n",
       " [1.8.0, 1.8.1, 1.8.2],\n",
       " [1.9.0, 1.9.1, 1.9.2],\n",
       " [1.10.0, 1.10.1, 1.10.2]]"
      ]
     },
     "execution_count": 7,
     "metadata": {},
     "output_type": "execute_result"
    }
   ],
   "source": [
    "# The kth drone path from node i to j\n",
    "dimensions = (int(len(N)), int(len(N)), int(len(D))) # Create drone arc dimensions - 12 x 12 x 3 (index 11 x 11 x 2)\n",
    "drone_arc = np.zeros(dimensions).tolist() # create nested list\n",
    "\n",
    "for i in R:\n",
    "    for j in R:\n",
    "        for k in D:\n",
    "            drone_arc[i][j][k] = mymodel.IntVar(0, 1, str(i) + \".\" + str(j) + \".\" + str(k)) #create binary variable for each possible drone path\n",
    "\n",
    "# All drone paths from node 2 (index 1)\n",
    "drone_arc[1]"
   ]
  },
  {
   "cell_type": "code",
   "execution_count": 8,
   "metadata": {},
   "outputs": [
    {
     "data": {
      "text/plain": [
       "[p.0, p.1, p.2, p.3, p.4, p.5, p.6, p.7, p.8, p.9, p.10]"
      ]
     },
     "execution_count": 8,
     "metadata": {},
     "output_type": "execute_result"
    }
   ],
   "source": [
    "# create position variable (lambda / u)\n",
    "pos = list(N)\n",
    "for i in N:\n",
    "    pos[i] = mymodel.IntVar(0, len(N), \"p.\" + str(i))\n",
    "pos"
   ]
  },
  {
   "cell_type": "code",
   "execution_count": 9,
   "metadata": {},
   "outputs": [
    {
     "data": {
      "text/plain": [
       "[0, w.1, w.2, w.3, w.4, w.5, w.6, w.7, w.8, w.9, w.10]"
      ]
     },
     "execution_count": 9,
     "metadata": {},
     "output_type": "execute_result"
    }
   ],
   "source": [
    "# Launch point variable - 1 if the truck goes to node j, 0 otherwise (allows drones to be launched or not from node j)\n",
    "w = list(N)\n",
    "for i in R:\n",
    "    w[i] = mymodel.IntVar(0, 1, \"w.\" + str(i))\n",
    "w"
   ]
  },
  {
   "cell_type": "markdown",
   "metadata": {},
   "source": [
    "## Objective"
   ]
  },
  {
   "cell_type": "code",
   "execution_count": 10,
   "metadata": {},
   "outputs": [],
   "source": [
    "# create objective function\n",
    "optimal_route = mymodel.Objective()\n",
    "optimal_route.SetMinimization() # Minimize cost\n",
    "\n",
    "for i in N:\n",
    "    for j in N:\n",
    "        optimal_route.SetCoefficient(truck_arc[i][j], truck_cost[i][j]) # Truck cost per arc\n",
    "        \n",
    "for i in R:\n",
    "    for j in R:\n",
    "        for k in D:\n",
    "            optimal_route.SetCoefficient(drone_arc[i][j][k], drone_cost[i][j]) # Drone cost per arc"
   ]
  },
  {
   "cell_type": "markdown",
   "metadata": {},
   "source": [
    "## Constraints"
   ]
  },
  {
   "cell_type": "markdown",
   "metadata": {},
   "source": [
    "### Variable Constraints"
   ]
  },
  {
   "cell_type": "code",
   "execution_count": 11,
   "metadata": {},
   "outputs": [],
   "source": [
    "# Truck variable constraints\n",
    "#truck_var = list(N)\n",
    "#for i in N:\n",
    "    #truck_var[i] = mymodel.Constraint(0, 0) # = to 0\n",
    "    #truck_var[i].SetCoefficient(truck_arc[i][i], 1) # Truck cannot go from i to i\n",
    "    #truck_var[i].SetCoefficient(truck_arc[i][0], 1) # Truck cannot go from node i to first node (origin)"
   ]
  },
  {
   "cell_type": "code",
   "execution_count": 12,
   "metadata": {},
   "outputs": [],
   "source": [
    "# Drone variable constraints\n",
    "#dimensions_2 = (int(len(N)), int(len(D))) # Create drone var dimensions - 12 x 3 (index 11 x 2)\n",
    "#drone_var = np.zeros(dimensions_2).tolist() # create nested list\n",
    "#for i in R:\n",
    "    #for k in D:\n",
    "        #drone_var[i][k] = mymodel.Constraint(0, 0) # = to 0\n",
    "        #drone_var[i][k].SetCoefficient(drone_arc[i][i][k], 1) # Drone cannot go from i to i"
   ]
  },
  {
   "cell_type": "markdown",
   "metadata": {},
   "source": [
    "### Truck arc constraints"
   ]
  },
  {
   "cell_type": "code",
   "execution_count": 13,
   "metadata": {},
   "outputs": [],
   "source": [
    "# First arc\n",
    "#first_arc = mymodel.Constraint(1, 1) # = to 1\n",
    "#for i in N:\n",
    "    #first_arc.SetCoefficient(truck_arc[0][i], 1) # Truck must leave the origin and go somewhere (might be able to take out a truck var constraint or 2 if we change this to R instead of N)"
   ]
  },
  {
   "cell_type": "code",
   "execution_count": 14,
   "metadata": {},
   "outputs": [],
   "source": [
    "# Last arc\n",
    "#last_arc = mymodel.Constraint(1, 1) # = to 1\n",
    "#for i in N:\n",
    "    #last_arc.SetCoefficient(truck_arc[i][len(N)-1], 1) # Truck must come from somewhere and return to the origin"
   ]
  },
  {
   "cell_type": "code",
   "execution_count": 15,
   "metadata": {},
   "outputs": [],
   "source": [
    "# Truck balance - In = Out\n",
    "truck_bal = list(N)\n",
    "for i in N:\n",
    "    truck_bal[i] = mymodel.Constraint(0, 0)\n",
    "    for j in N:\n",
    "        truck_bal[i].SetCoefficient(truck_arc[i][j], 1)\n",
    "        truck_bal[i].SetCoefficient(truck_arc[j][i], -1)\n",
    "        \n",
    "dimensions_3 = (int(len(N)), int(len(N))) # Create MTZ constraint dimensions - 12 x 12 (index 11 x 11)\n",
    "MTZ = np.zeros(dimensions_3).tolist() # create nested list\n",
    "\n",
    "for i in N:\n",
    "    for j in N:\n",
    "        MTZ[i][j] = mymodel.Constraint(-mymodel.infinity(), len(N)-2)\n",
    "        MTZ[i][j].SetCoefficient(truck_arc[i][j], len(N)-1)\n",
    "        MTZ[i][j].SetCoefficient(pos[i], 1)\n",
    "        MTZ[i][j].SetCoefficient(pos[j], -1)"
   ]
  },
  {
   "cell_type": "markdown",
   "metadata": {},
   "source": [
    "### Truck & Drone Covering Constraint"
   ]
  },
  {
   "cell_type": "code",
   "execution_count": 16,
   "metadata": {},
   "outputs": [],
   "source": [
    "# All intermediate nodes must be visited by either a truck or a drone\n",
    "covering = list(N)\n",
    "for j in R:\n",
    "    covering[j] = mymodel.Constraint(1, mymodel.infinity()) # constraint for each intermediate node j in R (1 to 10 index) - can we make it from 1 to N and delete some others?\n",
    "    for i in N: # index from 0 to 11\n",
    "        covering[j].SetCoefficient(truck_arc[i][j], 1) # Truck must go to node j if a drone doesn't\n",
    "    for i in R: # Different index for i here (1 to 10)\n",
    "        for k in D:\n",
    "            covering[j].SetCoefficient(drone_arc[i][j][k], 1) # A drone must go to node j if the truck doesn't"
   ]
  },
  {
   "cell_type": "markdown",
   "metadata": {},
   "source": [
    "### Drone Constraints"
   ]
  },
  {
   "cell_type": "code",
   "execution_count": 17,
   "metadata": {},
   "outputs": [],
   "source": [
    "# Drones must leave & come back to the same node\n",
    "dimensions_4 = (int(len(N)), int(len(N)), int(len(D))) # Create launch point constraint dimensions - 12 x 12 x 3 (index 11 x 11 x 2)\n",
    "launch = np.zeros(dimensions_4).tolist() # create nested list\n",
    "for i in R:\n",
    "    for j in R:\n",
    "        for k in D:\n",
    "            launch[i][j][k] = mymodel.Constraint(0, 0)\n",
    "            launch[i][j][k].SetCoefficient(drone_arc[i][j][k], 1) # Drone k goes from i to j \n",
    "            launch[i][j][k].SetCoefficient(drone_arc[j][i][k], -1) # Drone k goes from j back to i"
   ]
  },
  {
   "cell_type": "code",
   "execution_count": 18,
   "metadata": {},
   "outputs": [],
   "source": [
    "# Recycling drone constraint - at each node i, drone k can only be used to go to one node j. (not multiple j's)\n",
    "dimensions_5 = (int(len(N)), int(len(D))) # Create node origin constraint dimensions - 12 (index 11)\n",
    "drone_recy = np.zeros(dimensions_5).tolist() # create nested list\n",
    "for i in R:\n",
    "    for k in D:\n",
    "        drone_recy[i][k] = mymodel.Constraint(-mymodel.infinity(), 1) # for each drone k at each node i\n",
    "        for j in R:\n",
    "            drone_recy[i][k].SetCoefficient(drone_arc[i][j][k], 1) # sum of all routes out to node j should be <= 1"
   ]
  },
  {
   "cell_type": "markdown",
   "metadata": {},
   "source": [
    "### Position Constraints"
   ]
  },
  {
   "cell_type": "code",
   "execution_count": 19,
   "metadata": {},
   "outputs": [],
   "source": [
    "#position 1 = 1 (lambda for MTZ)\n",
    "#position_1 = mymodel.Constraint(1, 1)\n",
    "#position_1.SetCoefficient(pos[0], 1)\n",
    "\n",
    "#position N = N (lambda for MTZ)\n",
    "#position_N = mymodel.Constraint(1, 1)\n",
    "#position_N.SetCoefficient(pos[len(N)-1], len(N))"
   ]
  },
  {
   "cell_type": "code",
   "execution_count": 20,
   "metadata": {},
   "outputs": [],
   "source": [
    "# Launch point constraint - allows drones to be launched if a truck has visited that node\n",
    "launch_point = list(N)\n",
    "for j in R:\n",
    "    launch_point[j] = mymodel.Constraint(0, 0)\n",
    "    launch_point[j].SetCoefficient(w[j], -1) # connecting variable - 1 if the truck goes to the node, 0 otherwise\n",
    "    for i in N:\n",
    "        launch_point[j].SetCoefficient(truck_arc[i][j], 1) # all truck routes leading to that node"
   ]
  },
  {
   "cell_type": "code",
   "execution_count": 21,
   "metadata": {},
   "outputs": [],
   "source": [
    "# Floating drone constraint - not sure that we need this but it's here\n",
    "#dimensions_6 = (int(len(N)), int(len(N))) # Create node origin constraint dimensions - 12 (index 11)\n",
    "#floating_drone = np.zeros(dimensions_6).tolist() # create nested list\n",
    "#for i in R:\n",
    "#    for j in R:\n",
    "#        floating_drone[i][j] = mymodel.Constraint(-mymodel.infinity(), 0)\n",
    "#        floating_drone[i][j].SetCoefficient(w[i], -1)\n",
    "#        floating_drone[i][j].SetCoefficient(w[j], -1)\n",
    "#        for k in D:\n",
    "#            floating_drone[i][j].SetCoefficient(drone_arc[i][j][k], 1)"
   ]
  },
  {
   "cell_type": "code",
   "execution_count": 22,
   "metadata": {},
   "outputs": [
    {
     "name": "stdout",
     "output_type": "stream",
     "text": [
      "Solution Status = 0\n",
      "Number of variables = 442\n",
      "Number of constraints = 482\n",
      "Optimal Solution:\n",
      "Optimal Value = 642.00\n",
      "pos[0] = 0\n",
      "pos[1] = 0\n",
      "pos[2] = 0\n",
      "pos[3] = 0\n",
      "pos[4] = 0\n",
      "pos[5] = 0\n",
      "pos[6] = 0\n",
      "pos[7] = 0\n",
      "pos[8] = 0\n",
      "pos[9] = 0\n",
      "pos[10] = 0\n",
      "Drone_3 from 2 to 11: 1.0\n",
      "Drone_1 from 3 to 8: 1.0\n",
      "Drone_1 from 4 to 6: 1.0\n",
      "Drone_1 from 5 to 7: 1.0\n",
      "Drone_1 from 6 to 4: 1.0\n",
      "Drone_1 from 7 to 5: 1.0\n",
      "Drone_1 from 8 to 3: 1.0\n",
      "Drone_1 from 9 to 10: 1.0\n",
      "Drone_1 from 10 to 9: 1.0\n",
      "Drone_3 from 11 to 2: 1.0\n"
     ]
    }
   ],
   "source": [
    "# Solve the model and print optimal solution\n",
    "status = mymodel.Solve()                 # solve mymodel and display the solution\n",
    "\n",
    "print('Solution Status =', status)\n",
    "print('Number of variables =', mymodel.NumVariables())\n",
    "print('Number of constraints =', mymodel.NumConstraints())\n",
    "\n",
    "print('Optimal Solution:')\n",
    "\n",
    "# The objective value of the solution.\n",
    "print('Optimal Value = %.2f' % optimal_route.Value())\n",
    "\n",
    "# Display optimal solution\n",
    "for i in N:\n",
    "    print('pos[%d] = %d' % (i, pos[i].solution_value()))\n",
    "    for j in N:\n",
    "        if truck_arc[i][j].solution_value() == 1:\n",
    "            print('Truck ', i + 1, ' to ', j + 1, ': ', truck_arc[i][j].solution_value(), sep = '')\n",
    "for i in R:\n",
    "    for j in R:\n",
    "        for k in D:\n",
    "            if drone_arc[i][j][k].solution_value() == 1:\n",
    "                print('Drone_', k+1, ' from ', i + 1, ' to ', j + 1, ': ', drone_arc[i][j][k].solution_value(), sep = '')\n",
    "        \n",
    "#        if i == N-1 or i == j:\n",
    "#            continue\n",
    "#        elif j == N-1:\n",
    " #           j = 1\n",
    " #           print('From node ', i + 1, ' to node ', j + 1, ': ', use_arc[j][i].solution_value(), sep = '')\n",
    " #       else:\n",
    "  #          print('From node ', i + 1, ' to node ', j + 1, ': ', use_arc[j][i].solution_value(), sep = '') "
   ]
  }
 ],
 "metadata": {
  "kernelspec": {
   "display_name": "Python 3",
   "language": "python",
   "name": "python3"
  },
  "language_info": {
   "codemirror_mode": {
    "name": "ipython",
    "version": 3
   },
   "file_extension": ".py",
   "mimetype": "text/x-python",
   "name": "python",
   "nbconvert_exporter": "python",
   "pygments_lexer": "ipython3",
   "version": "3.7.4"
  }
 },
 "nbformat": 4,
 "nbformat_minor": 4
}
