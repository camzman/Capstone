{
 "cells": [
  {
   "cell_type": "markdown",
   "metadata": {},
   "source": [
    "# Drone Routing Optimization Problem"
   ]
  },
  {
   "cell_type": "markdown",
   "metadata": {},
   "source": [
    "## Model Initialization"
   ]
  },
  {
   "cell_type": "code",
   "execution_count": 1,
   "metadata": {},
   "outputs": [],
   "source": [
    "# import Glop linear solver package\n",
    "from ortools.linear_solver import pywraplp as glp\n",
    "import csv\n",
    "# initialize model object\n",
    "mymodel = glp.Solver('Drone Routing Problem', glp.Solver.CBC_MIXED_INTEGER_PROGRAMMING)"
   ]
  },
  {
   "cell_type": "markdown",
   "metadata": {},
   "source": [
    "## Parameters"
   ]
  },
  {
   "cell_type": "markdown",
   "metadata": {},
   "source": [
    "### Import distance matrix"
   ]
  },
  {
   "cell_type": "code",
   "execution_count": 29,
   "metadata": {},
   "outputs": [
    {
     "data": {
      "text/plain": [
       "[['0', '100', '81', '99', '61', '111', '16', '76', '67', '84', '102', '0'],\n",
       " ['100', '0', '97', '98', '41', '93', '97', '92', '48', '51', '9', '100'],\n",
       " ['81', '97', '0', '19', '66', '36', '66', '6', '51', '47', '92', '81'],\n",
       " ['99', '98', '19', '0', '74', '18', '84', '23', '58', '47', '92', '99'],\n",
       " ['61', '41', '66', '74', '0', '77', '56', '61', '17', '34', '42', '61'],\n",
       " ['111', '93', '36', '18', '77', '0', '97', '38', '60', '45', '86', '111'],\n",
       " ['16', '97', '66', '84', '56', '97', '0', '60', '59', '73', '98', '16'],\n",
       " ['76', '92', '6', '23', '61', '38', '60', '0', '46', '43', '88', '76'],\n",
       " ['67', '48', '51', '58', '17', '60', '59', '46', '0', '18', '45', '67'],\n",
       " ['84', '51', '47', '47', '34', '45', '73', '43', '18', '0', '45', '84'],\n",
       " ['102', '9', '92', '92', '42', '86', '98', '88', '45', '45', '0', '102'],\n",
       " ['0', '100', '81', '99', '61', '111', '16', '76', '67', '84', '102', '0']]"
      ]
     },
     "execution_count": 29,
     "metadata": {},
     "output_type": "execute_result"
    }
   ],
   "source": [
    "# import csv distance matrix as list\n",
    "with open('Orders_Data.csv', newline='') as f:\n",
    "    reader = csv.reader(f)\n",
    "    distance = list(reader)\n",
    "\n",
    "# remove blanks\n",
    "for i in range(len(distance)):\n",
    "    distance[i] = [item for item in distance[i] if item]\n",
    "distance = [item for item in distance if item]\n",
    "distance"
   ]
  },
  {
   "cell_type": "markdown",
   "metadata": {},
   "source": [
    "### Initialize Data Object"
   ]
  },
  {
   "cell_type": "code",
   "execution_count": 16,
   "metadata": {},
   "outputs": [],
   "source": [
    "# model parameters\n",
    "R = list(range(1, len(distance)-1)) # Nodes excluding origin & final 'dummy' node\n",
    "N = list(range(len(distance))) # All nodes\n",
    "M = len(distance) + 100 # Large number\n"
   ]
  },
  {
   "cell_type": "code",
   "execution_count": null,
   "metadata": {},
   "outputs": [],
   "source": []
  },
  {
   "cell_type": "markdown",
   "metadata": {},
   "source": [
    "## Decision Variables"
   ]
  },
  {
   "cell_type": "code",
   "execution_count": null,
   "metadata": {},
   "outputs": [],
   "source": [
    "use_arc = [list(range(1 + N * i, 1 + N * (i+1))) for i in range(N)] \n",
    "for i in range(N):\n",
    "    for j in range(N):\n",
    "        use_arc[i][j] = mymodel.IntVar(0, 1, str(i+1) + \".\" + str(j+1))\n",
    "use_arc"
   ]
  },
  {
   "cell_type": "code",
   "execution_count": null,
   "metadata": {},
   "outputs": [],
   "source": [
    "# create position variable (lambda / u)\n",
    "pos = list(range(N))\n",
    "for i in range(N):\n",
    "    pos[i] = mymodel.IntVar(0, N, \"p_\" + str(i+1))\n",
    "pos"
   ]
  },
  {
   "cell_type": "markdown",
   "metadata": {},
   "source": [
    "## Objective"
   ]
  },
  {
   "cell_type": "code",
   "execution_count": null,
   "metadata": {},
   "outputs": [],
   "source": [
    "# create objective function\n",
    "shortest_route = mymodel.Objective()\n",
    "shortest_route.SetMinimization()\n",
    "for i in range(N):\n",
    "    for j in range(N):\n",
    "        shortest_route.SetCoefficient(use_arc[i][j], cost[i][j])"
   ]
  },
  {
   "cell_type": "markdown",
   "metadata": {},
   "source": [
    "## Constraints"
   ]
  },
  {
   "cell_type": "markdown",
   "metadata": {},
   "source": [
    "### Arc constraints"
   ]
  },
  {
   "cell_type": "code",
   "execution_count": null,
   "metadata": {},
   "outputs": [],
   "source": [
    "# first node - 1.1 + 1.2 + 1.3 + 1.4 + 1.5 = 1\n",
    "#orig_node = mymodel.Constraint(1, 1)\n",
    "#for i in range(N):\n",
    "#    orig_node.SetCoefficient(use_arc.loc[0][i], 1)\n",
    "\n",
    "# last node - 1.5 + 2.5 + 3.5 + 4.5 + 5.5 = 1\n",
    "#last_node = mymodel.Constraint(1, 1)\n",
    "#for j in range(N):\n",
    "#    last_node.SetCoefficient(use_arc.loc[j][N-1], 1)\n",
    "\n",
    "# Can't go from and to the same node - 1.1 + 2.2 + 3.3 + 4.4 + 5.5 = 1\n",
    "#same_node = mymodel.Constraint(0, 0)\n",
    "#for i in range(N):\n",
    "#    same_node.SetCoefficient(use_arc.loc[i][i], 1)\n",
    "    \n",
    "# Can't go from first to dummy (1.5)\n",
    "#first_to_last = mymodel.Constraint(0, 0)\n",
    "#first_to_last.SetCoefficient(use_arc[N-1][0], 1)\n",
    "\n",
    "# Can't go from dummy to first (5.1)\n",
    "#last_to_first = mymodel.Constraint(0, 0)\n",
    "#last_to_first.SetCoefficient(use_arc[0][N-1], 1)"
   ]
  },
  {
   "cell_type": "code",
   "execution_count": null,
   "metadata": {},
   "outputs": [],
   "source": [
    "# Balance - Out\n",
    "# 2.1 + 2.2 + 2.3 + 2.4 + 2.5 = 1\n",
    "\n",
    "# Balance - In\n",
    "# 1.2 + 2.2 + 3.2 + 4.2 + 5.2 = 1\n",
    "\n",
    "# Flow Out\n",
    "\n",
    "Flow_out = list(range(N))\n",
    "\n",
    "for i in range(0, N-1): \n",
    "    Flow_out[i] = mymodel.Constraint(1, 1)\n",
    "    for j in range(N): \n",
    "        Flow_out[i].SetCoefficient(use_arc[i][j], 1)\n",
    "        \n",
    "# Flow In\n",
    "\n",
    "Flow_in = list(range(N))\n",
    "\n",
    "for i in range(1, N):\n",
    "    Flow_in[i] = mymodel.Constraint(1, 1)\n",
    "    for j in range(N): \n",
    "        Flow_in[i].SetCoefficient(use_arc[j][i], 1)"
   ]
  },
  {
   "cell_type": "markdown",
   "metadata": {},
   "source": [
    "### Position Constraints"
   ]
  },
  {
   "cell_type": "code",
   "execution_count": null,
   "metadata": {},
   "outputs": [],
   "source": [
    "# position 1 = 1\n",
    "position_1 = mymodel.Constraint(1, 1)\n",
    "position_1.SetCoefficient(pos[0], 1)\n",
    "\n",
    "# position N = N\n",
    "position_N = mymodel.Constraint(1, 1)\n",
    "position_N.SetCoefficient(pos[N-1], N)\n",
    "\n",
    "# MTZ Constraint\n",
    "\n",
    "# u[i] - u[j] + (n-1)*x[i][j] <= (n-2)\n",
    "\n",
    "MTZ = [list(range(1 + N * i, 1 + N * (i+1))) for i in range(N)] \n",
    "\n",
    "for i in range(1, N):\n",
    "    for j in range(1, N):\n",
    "        MTZ[i][j] = mymodel.Constraint(-mymodel.infinity(), N-2)\n",
    "        MTZ[i][j].SetCoefficient(use_arc[i][j], N-1)\n",
    "        MTZ[i][j].SetCoefficient(pos[i], 1)\n",
    "        MTZ[i][j].SetCoefficient(pos[j], -1)"
   ]
  },
  {
   "cell_type": "code",
   "execution_count": null,
   "metadata": {},
   "outputs": [],
   "source": [
    "# Solve the model and print optimal solution\n",
    "status = mymodel.Solve()                 # solve mymodel and display the solution\n",
    "\n",
    "print('Solution Status =', status)\n",
    "print('Number of variables =', mymodel.NumVariables())\n",
    "print('Number of constraints =', mymodel.NumConstraints())\n",
    "\n",
    "print('Optimal Solution:')\n",
    "\n",
    "# The objective value of the solution.\n",
    "print('Optimal Value = %.2f' % shortest_route.Value())\n",
    "\n",
    "# Display optimal solution\n",
    "for i in range(N):\n",
    "    for j in range(N):\n",
    "        print('From ', i + 1, ' to ', j + 1, ': ', use_arc[i][j].solution_value(), sep = '')\n",
    "        \n",
    "#        if i == N-1 or i == j:\n",
    "#            continue\n",
    "#        elif j == N-1:\n",
    " #           j = 1\n",
    " #           print('From node ', i + 1, ' to node ', j + 1, ': ', use_arc[j][i].solution_value(), sep = '')\n",
    " #       else:\n",
    "  #          print('From node ', i + 1, ' to node ', j + 1, ': ', use_arc[j][i].solution_value(), sep = '') "
   ]
  },
  {
   "cell_type": "code",
   "execution_count": null,
   "metadata": {},
   "outputs": [],
   "source": []
  }
 ],
 "metadata": {
  "kernelspec": {
   "display_name": "Python 3",
   "language": "python",
   "name": "python3"
  },
  "language_info": {
   "codemirror_mode": {
    "name": "ipython",
    "version": 3
   },
   "file_extension": ".py",
   "mimetype": "text/x-python",
   "name": "python",
   "nbconvert_exporter": "python",
   "pygments_lexer": "ipython3",
   "version": "3.7.4"
  }
 },
 "nbformat": 4,
 "nbformat_minor": 4
}
