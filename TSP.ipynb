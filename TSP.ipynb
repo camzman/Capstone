{
 "cells": [
  {
   "cell_type": "markdown",
   "metadata": {},
   "source": [
    "# Traveling Salesman Problem"
   ]
  },
  {
   "cell_type": "markdown",
   "metadata": {},
   "source": [
    "## Model Initialization"
   ]
  },
  {
   "cell_type": "code",
   "execution_count": 3,
   "metadata": {},
   "outputs": [],
   "source": [
    "# import Glop linear solver package\n",
    "from ortools.linear_solver import pywraplp as glp\n",
    "\n",
    "# import pandas package\n",
    "import pandas as pd\n",
    "\n",
    "# initialize model object\n",
    "mymodel = glp.Solver('Traveling Salesman', glp.Solver.CBC_MIXED_INTEGER_PROGRAMMING)"
   ]
  },
  {
   "cell_type": "markdown",
   "metadata": {},
   "source": [
    "## Parameters"
   ]
  },
  {
   "cell_type": "code",
   "execution_count": 4,
   "metadata": {},
   "outputs": [],
   "source": [
    "# import cost matrix as data frame\n",
    "cost = pd.DataFrame(\n",
    "    [[0.0, 5.0, 15.0, 10.0, 0.0], # cost from node 1\n",
    "     [5.0, 0.0, 12.0, 20.0, 5.0],  # node 2\n",
    "     [15.0, 12.0, 0.0, 6.0, 15.0],  # node 3\n",
    "     [10.0, 20.0, 6.0, 0.0, 10.0], # node 4\n",
    "     [0.0, 5.0, 15.0, 10.0, 0.0]]) # dummy node\n",
    "\n",
    "# coerce data type = integer / numeric?\n",
    "# Probably need a way to create the dummny data from a regular cost matrix\n",
    "\n",
    "# row = starting node, column = ending node (i to j)"
   ]
  },
  {
   "cell_type": "code",
   "execution_count": 5,
   "metadata": {},
   "outputs": [],
   "source": [
    "# model parameters\n",
    "N = len(cost.index) # number of nodes in data frame (including the dummy node)\n",
    "M = N + 1000.0 # arbitrarily large number"
   ]
  },
  {
   "cell_type": "markdown",
   "metadata": {},
   "source": [
    "## Decision Variables"
   ]
  },
  {
   "cell_type": "code",
   "execution_count": 6,
   "metadata": {},
   "outputs": [
    {
     "data": {
      "text/html": [
       "<div>\n",
       "<style scoped>\n",
       "    .dataframe tbody tr th:only-of-type {\n",
       "        vertical-align: middle;\n",
       "    }\n",
       "\n",
       "    .dataframe tbody tr th {\n",
       "        vertical-align: top;\n",
       "    }\n",
       "\n",
       "    .dataframe thead th {\n",
       "        text-align: right;\n",
       "    }\n",
       "</style>\n",
       "<table border=\"1\" class=\"dataframe\">\n",
       "  <thead>\n",
       "    <tr style=\"text-align: right;\">\n",
       "      <th></th>\n",
       "      <th>0</th>\n",
       "      <th>1</th>\n",
       "      <th>2</th>\n",
       "      <th>3</th>\n",
       "      <th>4</th>\n",
       "    </tr>\n",
       "  </thead>\n",
       "  <tbody>\n",
       "    <tr>\n",
       "      <td>0</td>\n",
       "      <td>1.1</td>\n",
       "      <td>1.2</td>\n",
       "      <td>1.3</td>\n",
       "      <td>1.4</td>\n",
       "      <td>1.5</td>\n",
       "    </tr>\n",
       "    <tr>\n",
       "      <td>1</td>\n",
       "      <td>2.1</td>\n",
       "      <td>2.2</td>\n",
       "      <td>2.3</td>\n",
       "      <td>2.4</td>\n",
       "      <td>2.5</td>\n",
       "    </tr>\n",
       "    <tr>\n",
       "      <td>2</td>\n",
       "      <td>3.1</td>\n",
       "      <td>3.2</td>\n",
       "      <td>3.3</td>\n",
       "      <td>3.4</td>\n",
       "      <td>3.5</td>\n",
       "    </tr>\n",
       "    <tr>\n",
       "      <td>3</td>\n",
       "      <td>4.1</td>\n",
       "      <td>4.2</td>\n",
       "      <td>4.3</td>\n",
       "      <td>4.4</td>\n",
       "      <td>4.5</td>\n",
       "    </tr>\n",
       "    <tr>\n",
       "      <td>4</td>\n",
       "      <td>5.1</td>\n",
       "      <td>5.2</td>\n",
       "      <td>5.3</td>\n",
       "      <td>5.4</td>\n",
       "      <td>5.5</td>\n",
       "    </tr>\n",
       "  </tbody>\n",
       "</table>\n",
       "</div>"
      ],
      "text/plain": [
       "     0    1    2    3    4\n",
       "0  1.1  1.2  1.3  1.4  1.5\n",
       "1  2.1  2.2  2.3  2.4  2.5\n",
       "2  3.1  3.2  3.3  3.4  3.5\n",
       "3  4.1  4.2  4.3  4.4  4.5\n",
       "4  5.1  5.2  5.3  5.4  5.5"
      ]
     },
     "execution_count": 6,
     "metadata": {},
     "output_type": "execute_result"
    }
   ],
   "source": [
    "# create arc variable\n",
    "use_arc = pd.DataFrame(index = range(cost.shape[0]), columns = range(cost.shape[1]))\n",
    "\n",
    "for i in range(N):\n",
    "    for j in range(N):\n",
    "        use_arc[j][i] = mymodel.IntVar(0, 1, str(i+1) + \".\" + str(j+1))\n",
    "use_arc"
   ]
  },
  {
   "cell_type": "code",
   "execution_count": 7,
   "metadata": {},
   "outputs": [
    {
     "data": {
      "text/plain": [
       "[p_1, p_2, p_3, p_4, p_5]"
      ]
     },
     "execution_count": 7,
     "metadata": {},
     "output_type": "execute_result"
    }
   ],
   "source": [
    "# create position variable (lambda / u)\n",
    "pos = list(range(N))\n",
    "for i in range(N):\n",
    "    pos[i] = mymodel.IntVar(0, N, \"p_\" + str(i+1))\n",
    "pos"
   ]
  },
  {
   "cell_type": "markdown",
   "metadata": {},
   "source": [
    "## Objective"
   ]
  },
  {
   "cell_type": "code",
   "execution_count": 8,
   "metadata": {},
   "outputs": [],
   "source": [
    "# create objective function\n",
    "shortest_route = mymodel.Objective()\n",
    "shortest_route.SetMinimization()\n",
    "for i in range(N):\n",
    "    for j in range(N):\n",
    "        shortest_route.SetCoefficient(use_arc[j][i], cost[j][i])"
   ]
  },
  {
   "cell_type": "markdown",
   "metadata": {},
   "source": [
    "## Constraints"
   ]
  },
  {
   "cell_type": "markdown",
   "metadata": {},
   "source": [
    "### Arc constraints"
   ]
  },
  {
   "cell_type": "code",
   "execution_count": 9,
   "metadata": {},
   "outputs": [],
   "source": [
    "# first node - 1.1 + 1.2 + 1.3 + 1.4 + 1.5 = 1\n",
    "#orig_node = mymodel.Constraint(1, 1)\n",
    "#for i in range(N):\n",
    "#    orig_node.SetCoefficient(use_arc.loc[0][i], 1)\n",
    "\n",
    "# last node - 1.5 + 2.5 + 3.5 + 4.5 + 5.5 = 1\n",
    "#last_node = mymodel.Constraint(1, 1)\n",
    "#for j in range(N):\n",
    "#    last_node.SetCoefficient(use_arc.loc[j][N-1], 1)\n",
    "\n",
    "# Can't go from and to the same node - 1.1 + 2.2 + 3.3 + 4.4 + 5.5 = 1\n",
    "#same_node = mymodel.Constraint(0, 0)\n",
    "#for i in range(N):\n",
    "#    same_node.SetCoefficient(use_arc.loc[i][i], 1)\n",
    "    \n",
    "# Can't go from first to dummy (1.5)\n",
    "#first_to_last = mymodel.Constraint(0, 0)\n",
    "#first_to_last.SetCoefficient(use_arc[N-1][0], 1)\n",
    "\n",
    "# Can't go from dummy to first (5.1)\n",
    "#last_to_first = mymodel.Constraint(0, 0)\n",
    "#last_to_first.SetCoefficient(use_arc[0][N-1], 1)"
   ]
  },
  {
   "cell_type": "code",
   "execution_count": 10,
   "metadata": {},
   "outputs": [],
   "source": [
    "# Balance - Out\n",
    "# 2.1 + 2.2 + 2.3 + 2.4 + 2.5 = 1\n",
    "\n",
    "# Balance - In\n",
    "# 1.2 + 2.2 + 3.2 + 4.2 + 5.2 = 1\n",
    "\n",
    "# Flow Out\n",
    "\n",
    "Flow_out = pd.Series(index = range(N))\n",
    "\n",
    "for i in range(0, N-1): \n",
    "    Flow_out[i] = mymodel.Constraint(1, 1)\n",
    "    for j in range(N): \n",
    "        Flow_out[i].SetCoefficient(use_arc[j][i], 1)\n",
    "        \n",
    "# Flow In\n",
    "\n",
    "Flow_in = pd.Series(index = range(N))\n",
    "\n",
    "for i in range(1, N):\n",
    "    Flow_in[i] = mymodel.Constraint(1, 1)\n",
    "    for j in range(N): \n",
    "        Flow_in[i].SetCoefficient(use_arc[i][j], 1)"
   ]
  },
  {
   "cell_type": "markdown",
   "metadata": {},
   "source": [
    "### Position Constraints"
   ]
  },
  {
   "cell_type": "code",
   "execution_count": 11,
   "metadata": {},
   "outputs": [],
   "source": [
    "# position 1 = 1\n",
    "position_1 = mymodel.Constraint(1, 1)\n",
    "position_1.SetCoefficient(pos[0], 1)\n",
    "\n",
    "# position N = N\n",
    "position_N = mymodel.Constraint(1, 1)\n",
    "position_N.SetCoefficient(pos[N-1], N)\n",
    "\n",
    "# MTZ Constraint\n",
    "\n",
    "# u[i] - u[j] + (n-1)*x[i][j] <= (n-2)\n",
    "\n",
    "MTZ = pd.DataFrame(index = range(N), columns = range(N))\n",
    "\n",
    "for i in range(1, N):\n",
    "    for j in range(1, N):\n",
    "        MTZ[j][i] = mymodel.Constraint(-mymodel.infinity(), N-2)\n",
    "        MTZ[j][i].SetCoefficient(use_arc[j][i], N-1)\n",
    "        MTZ[j][i].SetCoefficient(pos[i], 1)\n",
    "        MTZ[j][i].SetCoefficient(pos[j], -1)"
   ]
  },
  {
   "cell_type": "code",
   "execution_count": 12,
   "metadata": {},
   "outputs": [
    {
     "name": "stdout",
     "output_type": "stream",
     "text": [
      "Solution Status = 2\n",
      "Number of variables = 30\n",
      "Number of constraints = 26\n",
      "Optimal Solution:\n",
      "Optimal Value = 0.00\n",
      "From 1 to 1: 0.0\n",
      "From 1 to 2: 0.0\n",
      "From 1 to 3: 0.0\n",
      "From 1 to 4: 0.0\n",
      "From 1 to 5: 0.0\n",
      "From 2 to 1: 0.0\n",
      "From 2 to 2: 0.0\n",
      "From 2 to 3: 0.0\n",
      "From 2 to 4: 0.0\n",
      "From 2 to 5: 0.0\n",
      "From 3 to 1: 0.0\n",
      "From 3 to 2: 0.0\n",
      "From 3 to 3: 0.0\n",
      "From 3 to 4: 0.0\n",
      "From 3 to 5: 0.0\n",
      "From 4 to 1: 0.0\n",
      "From 4 to 2: 0.0\n",
      "From 4 to 3: 0.0\n",
      "From 4 to 4: 0.0\n",
      "From 4 to 5: 0.0\n",
      "From 5 to 1: 0.0\n",
      "From 5 to 2: 0.0\n",
      "From 5 to 3: 0.0\n",
      "From 5 to 4: 0.0\n",
      "From 5 to 5: 0.0\n"
     ]
    }
   ],
   "source": [
    "# Solve the model and print optimal solution\n",
    "status = mymodel.Solve()                 # solve mymodel and display the solution\n",
    "\n",
    "print('Solution Status =', status)\n",
    "print('Number of variables =', mymodel.NumVariables())\n",
    "print('Number of constraints =', mymodel.NumConstraints())\n",
    "\n",
    "print('Optimal Solution:')\n",
    "\n",
    "# The objective value of the solution.\n",
    "print('Optimal Value = %.2f' % shortest_route.Value())\n",
    "\n",
    "# Display optimal solution\n",
    "for i in range(N):\n",
    "    for j in range(N):\n",
    "        print('From ', i + 1, ' to ', j + 1, ': ', use_arc[j][i].solution_value(), sep = '')\n",
    "        \n",
    "#        if i == N-1 or i == j:\n",
    "#            continue\n",
    "#        elif j == N-1:\n",
    " #           j = 1\n",
    " #           print('From node ', i + 1, ' to node ', j + 1, ': ', use_arc[j][i].solution_value(), sep = '')\n",
    " #       else:\n",
    "  #          print('From node ', i + 1, ' to node ', j + 1, ': ', use_arc[j][i].solution_value(), sep = '') "
   ]
  }
 ],
 "metadata": {
  "kernelspec": {
   "display_name": "Python 3",
   "language": "python",
   "name": "python3"
  },
  "language_info": {
   "codemirror_mode": {
    "name": "ipython",
    "version": 3
   },
   "file_extension": ".py",
   "mimetype": "text/x-python",
   "name": "python",
   "nbconvert_exporter": "python",
   "pygments_lexer": "ipython3",
   "version": "3.7.4"
  }
 },
 "nbformat": 4,
 "nbformat_minor": 4
}
