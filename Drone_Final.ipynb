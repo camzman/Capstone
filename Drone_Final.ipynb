{
 "cells": [
  {
   "cell_type": "markdown",
   "metadata": {},
   "source": [
    "# Drone Routing Optimization Problem"
   ]
  },
  {
   "cell_type": "markdown",
   "metadata": {},
   "source": [
    "## Model Initialization"
   ]
  },
  {
   "cell_type": "code",
   "execution_count": 1,
   "metadata": {},
   "outputs": [],
   "source": [
    "# import Glop linear solver package\n",
    "from ortools.linear_solver import pywraplp as glp\n",
    "import csv\n",
    "import numpy as np\n",
    "import pandas as pd\n",
    "import time\n",
    "from datetime import date\n",
    "\n",
    "# initialize model object\n",
    "mymodel = glp.Solver('Drone Routing Problem', glp.Solver.CBC_MIXED_INTEGER_PROGRAMMING)"
   ]
  },
  {
   "cell_type": "code",
   "execution_count": 2,
   "metadata": {},
   "outputs": [],
   "source": [
    "# Set filepath for CSV with cost / distance data\n",
    "cost_filepath = 'Orders_Data_15.csv' # file with distances between each node\n",
    "coord_filepath = 'XYcoord_15.csv' # file with x, y coordinates of each node (including the origin)"
   ]
  },
  {
   "cell_type": "markdown",
   "metadata": {},
   "source": [
    "## Parameters"
   ]
  },
  {
   "cell_type": "markdown",
   "metadata": {},
   "source": [
    "### Import distance matrix"
   ]
  },
  {
   "cell_type": "code",
   "execution_count": 3,
   "metadata": {},
   "outputs": [],
   "source": [
    "# import csv distance matrix as list\n",
    "with open(cost_filepath, newline='') as f:\n",
    "    reader = csv.reader(f)\n",
    "    distance = list(reader)\n",
    "\n",
    "# remove blanks\n",
    "for i in range(len(distance)):\n",
    "    distance[i] = [item for item in distance[i] if item]\n",
    "distance = [item for item in distance if item]\n",
    "distance = np.array(distance, dtype = 'float')\n",
    "\n",
    "# Cost per unit of distance\n",
    "truck_cost_per_dist = 10.0\n",
    "drone_cost_per_dist = 3.0\n",
    "\n",
    "# Create cost matrices for truck & drone\n",
    "truck_cost = distance * truck_cost_per_dist\n",
    "drone_cost = distance * drone_cost_per_dist * 2 # Multiply by 2 to account for out / back path of drone\n",
    "truck_cost = truck_cost.tolist()\n",
    "drone_cost = drone_cost.tolist()"
   ]
  },
  {
   "cell_type": "markdown",
   "metadata": {},
   "source": [
    "### Initialize Model Parameters"
   ]
  },
  {
   "cell_type": "code",
   "execution_count": 4,
   "metadata": {},
   "outputs": [],
   "source": [
    "# model parameters\n",
    "N = len(distance)\n",
    "M = N + 100 # Large number\n",
    "D = 2 # Drones onboard the truck (0 to 2 index)"
   ]
  },
  {
   "cell_type": "markdown",
   "metadata": {},
   "source": [
    "## Decision Variables"
   ]
  },
  {
   "cell_type": "code",
   "execution_count": 5,
   "metadata": {},
   "outputs": [],
   "source": [
    "# Truck path from node i to j\n",
    "truck_arc = np.zeros((N,N)).tolist() # create nested list\n",
    "for i in range(N):\n",
    "    for j in range(N):\n",
    "        truck_arc[i][j] = mymodel.IntVar(0, 1, \"truck_\" + str(i) + \".\" + str(j)) #create binary variable for each possible truck path"
   ]
  },
  {
   "cell_type": "code",
   "execution_count": 6,
   "metadata": {},
   "outputs": [],
   "source": [
    "# The kth drone path from node i to j\n",
    "\n",
    "drone_arc = np.zeros((N,N)).tolist() # create nested list\n",
    "\n",
    "for i in range(N):\n",
    "    for j in range(N):\n",
    "        drone_arc[i][j] = mymodel.IntVar(0, 1, 'drone_' + str(i) + \".\" + str(j)) #create binary variable for each possible drone path"
   ]
  },
  {
   "cell_type": "code",
   "execution_count": 7,
   "metadata": {},
   "outputs": [],
   "source": [
    "# create position variable (lambda / u)\n",
    "pos = list(range(N))\n",
    "for i in range(N):\n",
    "    pos[i] = mymodel.IntVar(1, N-1, \"p.\" + str(i))\n",
    "pos[0].SetLb(0)\n",
    "pos[0].SetUb(0)"
   ]
  },
  {
   "cell_type": "markdown",
   "metadata": {},
   "source": [
    "## Objective"
   ]
  },
  {
   "cell_type": "code",
   "execution_count": 8,
   "metadata": {},
   "outputs": [],
   "source": [
    "# create objective function\n",
    "optimal_route = mymodel.Objective()\n",
    "optimal_route.SetMinimization() # Minimize cost\n",
    "\n",
    "for i in range(N):\n",
    "    for j in range(N):\n",
    "        if i != j: optimal_route.SetCoefficient(truck_arc[i][j], truck_cost[i][j]) # Truck cost per arc\n",
    "        \n",
    "for i in range(N):\n",
    "    for j in range(N):\n",
    "        if i != j: optimal_route.SetCoefficient(drone_arc[i][j], drone_cost[i][j]) # Drone cost per arc\n"
   ]
  },
  {
   "cell_type": "markdown",
   "metadata": {},
   "source": [
    "## Constraints"
   ]
  },
  {
   "cell_type": "code",
   "execution_count": 9,
   "metadata": {},
   "outputs": [],
   "source": [
    "first_arc = mymodel.Constraint(1,1)\n",
    "for j in range(1,N):\n",
    "    first_arc.SetCoefficient(truck_arc[0][j], 1)"
   ]
  },
  {
   "cell_type": "code",
   "execution_count": 10,
   "metadata": {},
   "outputs": [],
   "source": [
    "last_arc = mymodel.Constraint(1,1)\n",
    "for i in range(1,N):\n",
    "    last_arc.SetCoefficient(truck_arc[i][0], 1)"
   ]
  },
  {
   "cell_type": "code",
   "execution_count": 11,
   "metadata": {},
   "outputs": [],
   "source": [
    "bal = list(range(N))\n",
    "for j in range(N):\n",
    "    bal[j] = mymodel.Constraint(0, 0)\n",
    "    for i in range(N):\n",
    "        bal[j].SetCoefficient(truck_arc[i][j], 1)\n",
    "        bal[j].SetCoefficient(truck_arc[j][i], -1)"
   ]
  },
  {
   "cell_type": "code",
   "execution_count": 12,
   "metadata": {},
   "outputs": [],
   "source": [
    "launch = np.zeros(N).tolist()\n",
    "for i in range(1,N):\n",
    "    launch[i] = mymodel.Constraint(-D, 0)\n",
    "    for j in range(1,N):\n",
    "        launch[i].SetCoefficient(drone_arc[i][j], 1)\n",
    "    for k in range(N):\n",
    "        launch[i].SetCoefficient(truck_arc[k][i], -D)"
   ]
  },
  {
   "cell_type": "code",
   "execution_count": 13,
   "metadata": {},
   "outputs": [],
   "source": [
    "coverage = list(range(N))\n",
    "for j in range(1,N):\n",
    "    coverage[j] = mymodel.Constraint(1, 1)\n",
    "    for i in range(N):\n",
    "        if i!=j: coverage[j].SetCoefficient(truck_arc[i][j], 1)\n",
    "    for i in range(1,N):\n",
    "        coverage[j].SetCoefficient(drone_arc[i][j], 1)"
   ]
  },
  {
   "cell_type": "code",
   "execution_count": 14,
   "metadata": {},
   "outputs": [],
   "source": [
    "MTZ = np.zeros((N,N)).tolist() # create nested list\n",
    "\n",
    "for i in range(N):\n",
    "    for j in range(1,N):\n",
    "        MTZ[i][j] = mymodel.Constraint(-mymodel.infinity(), N-2)\n",
    "        MTZ[i][j].SetCoefficient(truck_arc[i][j], N-1)\n",
    "        MTZ[i][j].SetCoefficient(pos[i], 1)\n",
    "        MTZ[i][j].SetCoefficient(pos[j], -1)"
   ]
  },
  {
   "cell_type": "code",
   "execution_count": 15,
   "metadata": {},
   "outputs": [
    {
     "data": {
      "text/plain": [
       "903"
      ]
     },
     "execution_count": 15,
     "metadata": {},
     "output_type": "execute_result"
    }
   ],
   "source": [
    "mymodel.NumVariables()"
   ]
  },
  {
   "cell_type": "code",
   "execution_count": 16,
   "metadata": {},
   "outputs": [
    {
     "data": {
      "text/plain": [
       "483"
      ]
     },
     "execution_count": 16,
     "metadata": {},
     "output_type": "execute_result"
    }
   ],
   "source": [
    "mymodel.NumConstraints()"
   ]
  },
  {
   "cell_type": "code",
   "execution_count": 17,
   "metadata": {},
   "outputs": [
    {
     "name": "stdout",
     "output_type": "stream",
     "text": [
      "Solution Status = 0\n",
      "Number of variables = 903\n",
      "Number of constraints = 483\n",
      "Optimal Solution:\n",
      "Optimal Value = 3914.96\n",
      "Solution Time: 6605.25 seconds\n",
      "pos[0] = 0\n",
      "Truck 0 to 3: 1.0\n",
      "pos[1] = 1\n",
      "pos[2] = 20\n",
      "pos[3] = 1\n",
      "Truck 3 to 6: 1.0\n",
      "pos[4] = 1\n",
      "pos[5] = 1\n",
      "pos[6] = 2\n",
      "Truck 6 to 12: 1.0\n",
      "pos[7] = 20\n",
      "Truck 7 to 0: 1.0\n",
      "pos[8] = 1\n",
      "pos[9] = 20\n",
      "pos[10] = 1\n",
      "pos[11] = 18\n",
      "Truck 11 to 16: 1.0\n",
      "pos[12] = 3\n",
      "Truck 12 to 18: 1.0\n",
      "pos[13] = 1\n",
      "pos[14] = 1\n",
      "pos[15] = 1\n",
      "pos[16] = 19\n",
      "Truck 16 to 7: 1.0\n",
      "pos[17] = 17\n",
      "Truck 17 to 11: 1.0\n",
      "pos[18] = 4\n",
      "Truck 18 to 19: 1.0\n",
      "pos[19] = 5\n",
      "Truck 19 to 17: 1.0\n",
      "pos[20] = 1\n",
      "Drone from 3 to 10: 1.0\n",
      "Drone from 6 to 8: 1.0\n",
      "Drone from 6 to 9: 1.0\n",
      "Drone from 7 to 13: 1.0\n",
      "Drone from 11 to 20: 1.0\n",
      "Drone from 12 to 2: 1.0\n",
      "Drone from 16 to 15: 1.0\n",
      "Drone from 17 to 1: 1.0\n",
      "Drone from 18 to 4: 1.0\n",
      "Drone from 18 to 14: 1.0\n",
      "Drone from 19 to 5: 1.0\n"
     ]
    }
   ],
   "source": [
    "# Solve the model and print optimal solution\n",
    "start_time = time.time()\n",
    "status = mymodel.Solve()                 # solve mymodel and display the solution\n",
    "\n",
    "print('Solution Status =', status)\n",
    "print('Number of variables =', mymodel.NumVariables())\n",
    "print('Number of constraints =', mymodel.NumConstraints())\n",
    "\n",
    "print('Optimal Solution:')\n",
    "\n",
    "# The objective value of the solution.\n",
    "print('Optimal Value = %.2f' % optimal_route.Value())\n",
    "\n",
    "print(\"Solution Time: %.2f seconds\" % (time.time() - start_time))\n",
    "runtime = round(time.time() - start_time)\n",
    "today = str(date.today())\n",
    "\n",
    "# Display optimal solution\n",
    "for i in range(N):\n",
    "    print('pos[%d] = %d' % (i, pos[i].solution_value()))\n",
    "    for j in range(N):\n",
    "        if truck_arc[i][j].solution_value() == 1:\n",
    "            print('Truck ', i, ' to ', j, ': ', truck_arc[i][j].solution_value(), sep = '')\n",
    "for i in range(1,N):\n",
    "    for j in range(1,N):\n",
    "        if drone_arc[i][j].solution_value() == 1:\n",
    "                print('Drone from ', i, ' to ', j, ': ', drone_arc[i][j].solution_value(), sep = '')\n",
    "        #for k in D:"
   ]
  },
  {
   "cell_type": "code",
   "execution_count": 18,
   "metadata": {},
   "outputs": [
    {
     "data": {
      "text/html": [
       "<div>\n",
       "<style scoped>\n",
       "    .dataframe tbody tr th:only-of-type {\n",
       "        vertical-align: middle;\n",
       "    }\n",
       "\n",
       "    .dataframe tbody tr th {\n",
       "        vertical-align: top;\n",
       "    }\n",
       "\n",
       "    .dataframe thead th {\n",
       "        text-align: right;\n",
       "    }\n",
       "</style>\n",
       "<table border=\"1\" class=\"dataframe\">\n",
       "  <thead>\n",
       "    <tr style=\"text-align: right;\">\n",
       "      <th></th>\n",
       "      <th>From</th>\n",
       "      <th>To</th>\n",
       "    </tr>\n",
       "  </thead>\n",
       "  <tbody>\n",
       "    <tr>\n",
       "      <td>0</td>\n",
       "      <td>0</td>\n",
       "      <td>3</td>\n",
       "    </tr>\n",
       "    <tr>\n",
       "      <td>1</td>\n",
       "      <td>3</td>\n",
       "      <td>10</td>\n",
       "    </tr>\n",
       "    <tr>\n",
       "      <td>2</td>\n",
       "      <td>3</td>\n",
       "      <td>6</td>\n",
       "    </tr>\n",
       "    <tr>\n",
       "      <td>3</td>\n",
       "      <td>6</td>\n",
       "      <td>12</td>\n",
       "    </tr>\n",
       "    <tr>\n",
       "      <td>4</td>\n",
       "      <td>6</td>\n",
       "      <td>9</td>\n",
       "    </tr>\n",
       "    <tr>\n",
       "      <td>5</td>\n",
       "      <td>6</td>\n",
       "      <td>8</td>\n",
       "    </tr>\n",
       "    <tr>\n",
       "      <td>6</td>\n",
       "      <td>7</td>\n",
       "      <td>13</td>\n",
       "    </tr>\n",
       "    <tr>\n",
       "      <td>7</td>\n",
       "      <td>7</td>\n",
       "      <td>0</td>\n",
       "    </tr>\n",
       "    <tr>\n",
       "      <td>8</td>\n",
       "      <td>11</td>\n",
       "      <td>20</td>\n",
       "    </tr>\n",
       "    <tr>\n",
       "      <td>9</td>\n",
       "      <td>11</td>\n",
       "      <td>16</td>\n",
       "    </tr>\n",
       "    <tr>\n",
       "      <td>10</td>\n",
       "      <td>12</td>\n",
       "      <td>18</td>\n",
       "    </tr>\n",
       "    <tr>\n",
       "      <td>11</td>\n",
       "      <td>12</td>\n",
       "      <td>2</td>\n",
       "    </tr>\n",
       "    <tr>\n",
       "      <td>12</td>\n",
       "      <td>16</td>\n",
       "      <td>15</td>\n",
       "    </tr>\n",
       "    <tr>\n",
       "      <td>13</td>\n",
       "      <td>16</td>\n",
       "      <td>7</td>\n",
       "    </tr>\n",
       "    <tr>\n",
       "      <td>14</td>\n",
       "      <td>17</td>\n",
       "      <td>11</td>\n",
       "    </tr>\n",
       "    <tr>\n",
       "      <td>15</td>\n",
       "      <td>17</td>\n",
       "      <td>1</td>\n",
       "    </tr>\n",
       "    <tr>\n",
       "      <td>16</td>\n",
       "      <td>18</td>\n",
       "      <td>19</td>\n",
       "    </tr>\n",
       "    <tr>\n",
       "      <td>17</td>\n",
       "      <td>18</td>\n",
       "      <td>14</td>\n",
       "    </tr>\n",
       "    <tr>\n",
       "      <td>18</td>\n",
       "      <td>18</td>\n",
       "      <td>4</td>\n",
       "    </tr>\n",
       "    <tr>\n",
       "      <td>19</td>\n",
       "      <td>19</td>\n",
       "      <td>17</td>\n",
       "    </tr>\n",
       "    <tr>\n",
       "      <td>20</td>\n",
       "      <td>19</td>\n",
       "      <td>5</td>\n",
       "    </tr>\n",
       "  </tbody>\n",
       "</table>\n",
       "</div>"
      ],
      "text/plain": [
       "    From  To\n",
       "0      0   3\n",
       "1      3  10\n",
       "2      3   6\n",
       "3      6  12\n",
       "4      6   9\n",
       "5      6   8\n",
       "6      7  13\n",
       "7      7   0\n",
       "8     11  20\n",
       "9     11  16\n",
       "10    12  18\n",
       "11    12   2\n",
       "12    16  15\n",
       "13    16   7\n",
       "14    17  11\n",
       "15    17   1\n",
       "16    18  19\n",
       "17    18  14\n",
       "18    18   4\n",
       "19    19  17\n",
       "20    19   5"
      ]
     },
     "execution_count": 18,
     "metadata": {},
     "output_type": "execute_result"
    }
   ],
   "source": [
    "Position = []\n",
    "From = []\n",
    "To = []\n",
    "\n",
    "for i in range(N):\n",
    "    #Position.append(int(pos[i].solution_value() + 1))\n",
    "    for j in range(N):\n",
    "        if truck_arc[i][j].solution_value() == 1:\n",
    "            From.append(i)\n",
    "            To.append(j)\n",
    "        if drone_arc[i][j].solution_value() == 1:\n",
    "            From.append(i)\n",
    "            To.append(j)\n",
    "solution = pd.DataFrame(list(zip(From, To)), columns = ['From', 'To'])\n",
    "solution = solution.sort_values(by=['From', 'To'], ascending=[True, False]).reset_index(drop=True)\n",
    "solution"
   ]
  },
  {
   "cell_type": "markdown",
   "metadata": {},
   "source": [
    "## Plot the Solution"
   ]
  },
  {
   "cell_type": "code",
   "execution_count": 19,
   "metadata": {},
   "outputs": [],
   "source": [
    "import matplotlib.pyplot as plt\n",
    "import networkx as nx"
   ]
  },
  {
   "cell_type": "code",
   "execution_count": 20,
   "metadata": {},
   "outputs": [],
   "source": [
    "# import csv x, y coord matrix as list\n",
    "with open(coord_filepath, newline='') as f:\n",
    "    reader = csv.reader(f)\n",
    "    coord = list(reader)\n",
    "\n",
    "# remove blanks & converting to integers\n",
    "for i in range(len(coord)):\n",
    "    coord[i] = [int(item) for item in coord[i] if item]\n",
    "coord = [item for item in coord if item]"
   ]
  },
  {
   "cell_type": "code",
   "execution_count": 21,
   "metadata": {},
   "outputs": [],
   "source": [
    "# Define function to convert list of coordinates to dictionary\n",
    "def to_dict(my_list):\n",
    "    dict = {}\n",
    "    for items in range(len(my_list)):\n",
    "        dict[items] = my_list[items]\n",
    "    return dict"
   ]
  },
  {
   "cell_type": "code",
   "execution_count": 22,
   "metadata": {},
   "outputs": [
    {
     "data": {
      "text/plain": [
       "{0: [0, 0],\n",
       " 1: [76, 98],\n",
       " 2: [85, 6],\n",
       " 3: [24, 10],\n",
       " 4: [100, 47],\n",
       " 5: [81, 77],\n",
       " 6: [64, 7],\n",
       " 7: [1, 61],\n",
       " 8: [61, 24],\n",
       " 9: [64, 5],\n",
       " 10: [31, 23],\n",
       " 11: [45, 70],\n",
       " 12: [77, 11],\n",
       " 13: [2, 90],\n",
       " 14: [99, 61],\n",
       " 15: [47, 91],\n",
       " 16: [37, 74],\n",
       " 17: [62, 78],\n",
       " 18: [96, 50],\n",
       " 19: [74, 65],\n",
       " 20: [50, 56]}"
      ]
     },
     "execution_count": 22,
     "metadata": {},
     "output_type": "execute_result"
    }
   ],
   "source": [
    "coord = to_dict(coord)\n",
    "coord"
   ]
  },
  {
   "cell_type": "code",
   "execution_count": 23,
   "metadata": {},
   "outputs": [],
   "source": [
    "# Define edge list\n",
    "edge_list = []\n",
    "for i in range(len(solution)):\n",
    "    edge_list.append([solution['From'][i], solution['To'][i]])"
   ]
  },
  {
   "cell_type": "code",
   "execution_count": 24,
   "metadata": {},
   "outputs": [],
   "source": [
    "# Initialize graph object\n",
    "G = nx.Graph()"
   ]
  },
  {
   "cell_type": "code",
   "execution_count": 25,
   "metadata": {},
   "outputs": [
    {
     "name": "stderr",
     "output_type": "stream",
     "text": [
      "C:\\Users\\camco\\Anaconda3\\lib\\site-packages\\networkx\\drawing\\nx_pylab.py:579: MatplotlibDeprecationWarning: \n",
      "The iterable function was deprecated in Matplotlib 3.1 and will be removed in 3.3. Use np.iterable instead.\n",
      "  if not cb.iterable(width):\n"
     ]
    },
    {
     "data": {
      "image/png": "[encoded data removed]",
      "text/plain": [
       "<Figure size 720x720 with 1 Axes>"
      ]
     },
     "metadata": {},
     "output_type": "display_data"
    }
   ],
   "source": [
    "for (u,v) in edge_list:\n",
    "    G.add_edge(v, u, capacity=1) \n",
    "       \n",
    "fig, ax = plt.subplots(figsize=(10,10))\n",
    "nx.draw(G, coord, edgelist=edge_list, edge_labels=True, with_labels=True, font_color='w', node_color='darkblue', ax=ax)\n",
    "#nx.draw_networkx_edges(G, coord, edgelist=droneedgelist, edge_color='darkorange', style='dotted', ax=ax)\n",
    "limits=plt.axis('on')\n",
    "ax.tick_params(left=True, bottom=True, labelleft=True, labelbottom=True)\n",
    "opt_val = round(optimal_route.Value(), 1)\n",
    "string = 'Solution: ' + str(N-1) + ' nodes / ' + str(D) +' drones (opt. val: ' + str(opt_val) + ', ' 'sol. time: ' + str(runtime) + ' s)'\n",
    "ax.set_title(string, fontsize = 16)\n",
    "plt.show();\n",
    "saveas = 'Drone_output_' + str(N-1) +'n_' + str(D) + 'd_'+ today  +'.png'\n",
    "fig.savefig(saveas);"
   ]
  },
  {
   "cell_type": "markdown",
   "metadata": {},
   "source": [
    "### Save solution as CSV"
   ]
  },
  {
   "cell_type": "code",
   "execution_count": 26,
   "metadata": {},
   "outputs": [],
   "source": [
    "saveas_csv = 'Drone_output_' + str(N-1) +'n_' + str(D) + 'd_'+ today +'.csv'\n",
    "solution.to_csv(saveas_csv, index=False)"
   ]
  },
  {
   "cell_type": "code",
   "execution_count": null,
   "metadata": {},
   "outputs": [],
   "source": []
  }
 ],
 "metadata": {
  "kernelspec": {
   "display_name": "Python 3",
   "language": "python",
   "name": "python3"
  },
  "language_info": {
   "codemirror_mode": {
    "name": "ipython",
    "version": 3
   },
   "file_extension": ".py",
   "mimetype": "text/x-python",
   "name": "python",
   "nbconvert_exporter": "python",
   "pygments_lexer": "ipython3",
   "version": "3.7.4"
  }
 },
 "nbformat": 4,
 "nbformat_minor": 4
}
