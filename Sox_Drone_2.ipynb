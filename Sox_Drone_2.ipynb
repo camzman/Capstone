{
 "cells": [
  {
   "cell_type": "markdown",
   "metadata": {},
   "source": [
    "# Drone Routing Optimization Problem"
   ]
  },
  {
   "cell_type": "markdown",
   "metadata": {},
   "source": [
    "## Model Initialization"
   ]
  },
  {
   "cell_type": "code",
   "execution_count": 1,
   "metadata": {},
   "outputs": [],
   "source": [
    "# import Glop linear solver package\n",
    "from ortools.linear_solver import pywraplp as glp\n",
    "import csv\n",
    "import numpy as np\n",
    "#import pandas as pd\n",
    "#import time\n",
    "#from datetime import date\n",
    "\n",
    "# initialize model object\n",
    "mymodel = glp.Solver('Drone Routing Problem', glp.Solver.CBC_MIXED_INTEGER_PROGRAMMING)"
   ]
  },
  {
   "cell_type": "markdown",
   "metadata": {},
   "source": [
    "## Parameters"
   ]
  },
  {
   "cell_type": "markdown",
   "metadata": {},
   "source": [
    "### Import distance matrix"
   ]
  },
  {
   "cell_type": "code",
   "execution_count": 2,
   "metadata": {},
   "outputs": [],
   "source": [
    "# import csv distance matrix as list\n",
    "with open('Orders_Data.csv', newline='') as f:\n",
    "    reader = csv.reader(f)\n",
    "    distance = list(reader)\n",
    "\n",
    "# remove blanks\n",
    "for i in range(len(distance)):\n",
    "    distance[i] = [item for item in distance[i] if item]\n",
    "distance = [item for item in distance if item]\n",
    "distance = np.array(distance, dtype = 'float')\n",
    "\n",
    "# Cost per unit of distance\n",
    "truck_cost_per_dist = 10.0\n",
    "drone_cost_per_dist = 3.0\n",
    "\n",
    "# Create cost matrices for truck & drone\n",
    "truck_cost = distance * truck_cost_per_dist\n",
    "drone_cost = distance * drone_cost_per_dist\n",
    "truck_cost = truck_cost.tolist()\n",
    "drone_cost = drone_cost.tolist()"
   ]
  },
  {
   "cell_type": "code",
   "execution_count": 3,
   "metadata": {},
   "outputs": [
    {
     "data": {
      "text/plain": [
       "6"
      ]
     },
     "execution_count": 3,
     "metadata": {},
     "output_type": "execute_result"
    }
   ],
   "source": [
    "len(distance)"
   ]
  },
  {
   "cell_type": "code",
   "execution_count": 4,
   "metadata": {},
   "outputs": [
    {
     "data": {
      "text/plain": [
       "[[0.0, 1000.0, 810.0, 990.0, 610.0, 1110.0],\n",
       " [1000.0, 0.0, 970.0, 980.0, 410.0, 930.0],\n",
       " [810.0, 970.0, 0.0, 190.0, 660.0, 360.0],\n",
       " [990.0, 980.0, 190.0, 0.0, 740.0, 180.0],\n",
       " [610.0, 410.0, 660.0, 740.0, 0.0, 770.0],\n",
       " [1110.0, 930.0, 360.0, 180.0, 770.0, 0.0]]"
      ]
     },
     "execution_count": 4,
     "metadata": {},
     "output_type": "execute_result"
    }
   ],
   "source": [
    "truck_cost"
   ]
  },
  {
   "cell_type": "code",
   "execution_count": 5,
   "metadata": {},
   "outputs": [
    {
     "data": {
      "text/plain": [
       "[[0.0, 300.0, 243.0, 297.0, 183.0, 333.0],\n",
       " [300.0, 0.0, 291.0, 294.0, 123.0, 279.0],\n",
       " [243.0, 291.0, 0.0, 57.0, 198.0, 108.0],\n",
       " [297.0, 294.0, 57.0, 0.0, 222.0, 54.0],\n",
       " [183.0, 123.0, 198.0, 222.0, 0.0, 231.0],\n",
       " [333.0, 279.0, 108.0, 54.0, 231.0, 0.0]]"
      ]
     },
     "execution_count": 5,
     "metadata": {},
     "output_type": "execute_result"
    }
   ],
   "source": [
    "drone_cost"
   ]
  },
  {
   "cell_type": "markdown",
   "metadata": {},
   "source": [
    "### Initialize Model Parameters"
   ]
  },
  {
   "cell_type": "code",
   "execution_count": 6,
   "metadata": {},
   "outputs": [],
   "source": [
    "# model parameters\n",
    "N = len(distance)\n",
    "M = N + 100 # Large number\n",
    "D = 2 # Drones onboard the truck (0 to 2 index)"
   ]
  },
  {
   "cell_type": "code",
   "execution_count": 7,
   "metadata": {},
   "outputs": [
    {
     "data": {
      "text/plain": [
       "[0, 1, 2, 3, 4, 5]"
      ]
     },
     "execution_count": 7,
     "metadata": {},
     "output_type": "execute_result"
    }
   ],
   "source": [
    "list(range(N))"
   ]
  },
  {
   "cell_type": "code",
   "execution_count": 8,
   "metadata": {},
   "outputs": [
    {
     "data": {
      "text/plain": [
       "array([[0., 0., 0., 0., 0., 0.],\n",
       "       [0., 0., 0., 0., 0., 0.],\n",
       "       [0., 0., 0., 0., 0., 0.],\n",
       "       [0., 0., 0., 0., 0., 0.],\n",
       "       [0., 0., 0., 0., 0., 0.],\n",
       "       [0., 0., 0., 0., 0., 0.]])"
      ]
     },
     "execution_count": 8,
     "metadata": {},
     "output_type": "execute_result"
    }
   ],
   "source": [
    "np.zeros((6,6))"
   ]
  },
  {
   "cell_type": "markdown",
   "metadata": {},
   "source": [
    "## Decision Variables"
   ]
  },
  {
   "cell_type": "code",
   "execution_count": 9,
   "metadata": {},
   "outputs": [
    {
     "data": {
      "text/plain": [
       "[[truck_0.0, truck_0.1, truck_0.2, truck_0.3, truck_0.4, truck_0.5],\n",
       " [truck_1.0, truck_1.1, truck_1.2, truck_1.3, truck_1.4, truck_1.5],\n",
       " [truck_2.0, truck_2.1, truck_2.2, truck_2.3, truck_2.4, truck_2.5],\n",
       " [truck_3.0, truck_3.1, truck_3.2, truck_3.3, truck_3.4, truck_3.5],\n",
       " [truck_4.0, truck_4.1, truck_4.2, truck_4.3, truck_4.4, truck_4.5],\n",
       " [truck_5.0, truck_5.1, truck_5.2, truck_5.3, truck_5.4, truck_5.5]]"
      ]
     },
     "execution_count": 9,
     "metadata": {},
     "output_type": "execute_result"
    }
   ],
   "source": [
    "# Truck path from node i to j\n",
    "truck_arc = np.zeros((N,N)).tolist() # create nested list\n",
    "for i in range(N):\n",
    "    for j in range(N):\n",
    "        truck_arc[i][j] = mymodel.IntVar(0, 1, \"truck_\" + str(i) + \".\" + str(j)) #create binary variable for each possible truck path\n",
    "truck_arc"
   ]
  },
  {
   "cell_type": "code",
   "execution_count": 10,
   "metadata": {},
   "outputs": [
    {
     "data": {
      "text/plain": [
       "36"
      ]
     },
     "execution_count": 10,
     "metadata": {},
     "output_type": "execute_result"
    }
   ],
   "source": [
    "mymodel.NumVariables()"
   ]
  },
  {
   "cell_type": "code",
   "execution_count": 11,
   "metadata": {},
   "outputs": [
    {
     "data": {
      "text/plain": [
       "[[drone_0.0, drone_0.1, drone_0.2, drone_0.3, drone_0.4, drone_0.5],\n",
       " [drone_1.0, drone_1.1, drone_1.2, drone_1.3, drone_1.4, drone_1.5],\n",
       " [drone_2.0, drone_2.1, drone_2.2, drone_2.3, drone_2.4, drone_2.5],\n",
       " [drone_3.0, drone_3.1, drone_3.2, drone_3.3, drone_3.4, drone_3.5],\n",
       " [drone_4.0, drone_4.1, drone_4.2, drone_4.3, drone_4.4, drone_4.5],\n",
       " [drone_5.0, drone_5.1, drone_5.2, drone_5.3, drone_5.4, drone_5.5]]"
      ]
     },
     "execution_count": 11,
     "metadata": {},
     "output_type": "execute_result"
    }
   ],
   "source": [
    "# The kth drone path from node i to j\n",
    "\n",
    "drone_arc = np.zeros((N,N)).tolist() # create nested list\n",
    "\n",
    "for i in range(N):\n",
    "    for j in range(N):\n",
    "        drone_arc[i][j] = mymodel.IntVar(0, 1, 'drone_' + str(i) + \".\" + str(j)) #create binary variable for each possible drone path\n",
    "\n",
    "        #for k in D: [k]  + \".\" + str(k) , int(len(D))\n",
    "        \n",
    "# All drone paths from node 2 (index 1)\n",
    "drone_arc"
   ]
  },
  {
   "cell_type": "code",
   "execution_count": 12,
   "metadata": {},
   "outputs": [
    {
     "data": {
      "text/plain": [
       "72"
      ]
     },
     "execution_count": 12,
     "metadata": {},
     "output_type": "execute_result"
    }
   ],
   "source": [
    "mymodel.NumVariables()"
   ]
  },
  {
   "cell_type": "code",
   "execution_count": 13,
   "metadata": {},
   "outputs": [],
   "source": [
    "# create position variable (lambda / u)\n",
    "pos = list(range(N))\n",
    "for i in range(N):\n",
    "    pos[i] = mymodel.IntVar(1, N-1, \"p.\" + str(i))\n",
    "pos[0].SetLb(0)\n",
    "pos[0].SetUb(0)"
   ]
  },
  {
   "cell_type": "code",
   "execution_count": 14,
   "metadata": {},
   "outputs": [
    {
     "data": {
      "text/plain": [
       "78"
      ]
     },
     "execution_count": 14,
     "metadata": {},
     "output_type": "execute_result"
    }
   ],
   "source": [
    "mymodel.NumVariables()"
   ]
  },
  {
   "cell_type": "markdown",
   "metadata": {},
   "source": [
    "## Objective"
   ]
  },
  {
   "cell_type": "code",
   "execution_count": 15,
   "metadata": {},
   "outputs": [],
   "source": [
    "# create objective function\n",
    "optimal_route = mymodel.Objective()\n",
    "optimal_route.SetMinimization() # Minimize cost\n",
    "\n",
    "for i in range(N):\n",
    "    for j in range(N):\n",
    "        if i != j: optimal_route.SetCoefficient(truck_arc[i][j], truck_cost[i][j]) # Truck cost per arc\n",
    "        \n",
    "for i in range(N):\n",
    "    for j in range(N):\n",
    "        if i != j: optimal_route.SetCoefficient(drone_arc[i][j], drone_cost[i][j]) # Drone cost per arc\n"
   ]
  },
  {
   "cell_type": "markdown",
   "metadata": {},
   "source": [
    "## Constraints"
   ]
  },
  {
   "cell_type": "code",
   "execution_count": 16,
   "metadata": {},
   "outputs": [],
   "source": [
    "first_arc = mymodel.Constraint(1,1)\n",
    "for j in range(1,N):\n",
    "    first_arc.SetCoefficient(truck_arc[0][j], 1)"
   ]
  },
  {
   "cell_type": "code",
   "execution_count": 17,
   "metadata": {},
   "outputs": [],
   "source": [
    "last_arc = mymodel.Constraint(1,1)\n",
    "for i in range(1,N):\n",
    "    last_arc.SetCoefficient(truck_arc[i][0], 1)"
   ]
  },
  {
   "cell_type": "code",
   "execution_count": 18,
   "metadata": {},
   "outputs": [
    {
     "data": {
      "text/plain": [
       "2"
      ]
     },
     "execution_count": 18,
     "metadata": {},
     "output_type": "execute_result"
    }
   ],
   "source": [
    "mymodel.NumConstraints()"
   ]
  },
  {
   "cell_type": "code",
   "execution_count": 19,
   "metadata": {},
   "outputs": [],
   "source": [
    "bal = list(range(N))\n",
    "for j in range(N):\n",
    "    bal[j] = mymodel.Constraint(0, 0)\n",
    "    for i in range(N):\n",
    "        bal[j].SetCoefficient(truck_arc[i][j], 1)\n",
    "        bal[j].SetCoefficient(truck_arc[j][i], -1)"
   ]
  },
  {
   "cell_type": "code",
   "execution_count": 20,
   "metadata": {},
   "outputs": [
    {
     "data": {
      "text/plain": [
       "8"
      ]
     },
     "execution_count": 20,
     "metadata": {},
     "output_type": "execute_result"
    }
   ],
   "source": [
    "mymodel.NumConstraints()"
   ]
  },
  {
   "cell_type": "code",
   "execution_count": 21,
   "metadata": {},
   "outputs": [],
   "source": [
    "launch = np.zeros(N).tolist()\n",
    "for i in range(1,N):\n",
    "    launch[i] = mymodel.Constraint(-D, 0)\n",
    "    for j in range(1,N):\n",
    "        launch[i].SetCoefficient(drone_arc[i][j], 1)\n",
    "    for k in range(N):\n",
    "        launch[i].SetCoefficient(truck_arc[k][i], -D)"
   ]
  },
  {
   "cell_type": "code",
   "execution_count": 22,
   "metadata": {},
   "outputs": [
    {
     "data": {
      "text/plain": [
       "13"
      ]
     },
     "execution_count": 22,
     "metadata": {},
     "output_type": "execute_result"
    }
   ],
   "source": [
    "mymodel.NumConstraints()"
   ]
  },
  {
   "cell_type": "code",
   "execution_count": 23,
   "metadata": {},
   "outputs": [],
   "source": [
    "coverage = list(range(N))\n",
    "for j in range(1,N):\n",
    "    coverage[j] = mymodel.Constraint(1, 1)\n",
    "    for i in range(N):\n",
    "        if i!=j: coverage[j].SetCoefficient(truck_arc[i][j], 1)\n",
    "    for i in range(1,N):\n",
    "        coverage[j].SetCoefficient(drone_arc[i][j], 1)"
   ]
  },
  {
   "cell_type": "code",
   "execution_count": 24,
   "metadata": {},
   "outputs": [
    {
     "data": {
      "text/plain": [
       "18"
      ]
     },
     "execution_count": 24,
     "metadata": {},
     "output_type": "execute_result"
    }
   ],
   "source": [
    "mymodel.NumConstraints()"
   ]
  },
  {
   "cell_type": "code",
   "execution_count": 25,
   "metadata": {},
   "outputs": [],
   "source": [
    "MTZ = np.zeros((N,N)).tolist() # create nested list\n",
    "\n",
    "for i in range(N):\n",
    "    for j in range(1,N):\n",
    "        MTZ[i][j] = mymodel.Constraint(-mymodel.infinity(), N-2)\n",
    "        MTZ[i][j].SetCoefficient(truck_arc[i][j], N-1)\n",
    "        MTZ[i][j].SetCoefficient(pos[i], 1)\n",
    "        MTZ[i][j].SetCoefficient(pos[j], -1)"
   ]
  },
  {
   "cell_type": "code",
   "execution_count": 26,
   "metadata": {},
   "outputs": [
    {
     "data": {
      "text/plain": [
       "48"
      ]
     },
     "execution_count": 26,
     "metadata": {},
     "output_type": "execute_result"
    }
   ],
   "source": [
    "mymodel.NumConstraints()"
   ]
  },
  {
   "cell_type": "code",
   "execution_count": 27,
   "metadata": {},
   "outputs": [
    {
     "name": "stdout",
     "output_type": "stream",
     "text": [
      "Solution Status = 0\n",
      "Number of variables = 78\n",
      "Number of constraints = 48\n",
      "Optimal Solution:\n",
      "Optimal Value = 2368.00\n",
      "pos[0] = 0\n",
      "Truck 0 to 4: 1.0\n",
      "pos[1] = 1\n",
      "pos[2] = 2\n",
      "Truck 2 to 0: 1.0\n",
      "pos[3] = 1\n",
      "pos[4] = 1\n",
      "Truck 4 to 2: 1.0\n",
      "pos[5] = 2\n",
      "Drone from 2 to 3: 1.0\n",
      "Drone from 2 to 5: 1.0\n",
      "Drone from 4 to 1: 1.0\n"
     ]
    }
   ],
   "source": [
    "# Solve the model and print optimal solution\n",
    "#start_time = time.time()\n",
    "status = mymodel.Solve()                 # solve mymodel and display the solution\n",
    "\n",
    "print('Solution Status =', status)\n",
    "print('Number of variables =', mymodel.NumVariables())\n",
    "print('Number of constraints =', mymodel.NumConstraints())\n",
    "\n",
    "print('Optimal Solution:')\n",
    "\n",
    "# The objective value of the solution.\n",
    "print('Optimal Value = %.2f' % optimal_route.Value())\n",
    "\n",
    "#print(\"Solution Time: %.2f seconds\" % (time.time() - start_time))\n",
    "#runtime = round(time.time() - start_time)\n",
    "#today = str(date.today())\n",
    "\n",
    "# Display optimal solution\n",
    "for i in range(N):\n",
    "    print('pos[%d] = %d' % (i, pos[i].solution_value()))\n",
    "    for j in range(N):\n",
    "        if truck_arc[i][j].solution_value() == 1:\n",
    "            print('Truck ', i, ' to ', j, ': ', truck_arc[i][j].solution_value(), sep = '')\n",
    "for i in range(1,N):\n",
    "    for j in range(1,N):\n",
    "        if drone_arc[i][j].solution_value() == 1:\n",
    "                print('Drone from ', i, ' to ', j, ': ', drone_arc[i][j].solution_value(), sep = '')\n",
    "        #for k in D:"
   ]
  },
  {
   "cell_type": "code",
   "execution_count": null,
   "metadata": {},
   "outputs": [],
   "source": []
  }
 ],
 "metadata": {
  "kernelspec": {
   "display_name": "Python 3",
   "language": "python",
   "name": "python3"
  },
  "language_info": {
   "codemirror_mode": {
    "name": "ipython",
    "version": 3
   },
   "file_extension": ".py",
   "mimetype": "text/x-python",
   "name": "python",
   "nbconvert_exporter": "python",
   "pygments_lexer": "ipython3",
   "version": "3.7.4"
  }
 },
 "nbformat": 4,
 "nbformat_minor": 4
}
