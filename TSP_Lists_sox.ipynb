{
 "cells": [
  {
   "cell_type": "markdown",
   "metadata": {},
   "source": [
    "# Traveling Salesman Problem"
   ]
  },
  {
   "cell_type": "markdown",
   "metadata": {},
   "source": [
    "## Model Initialization"
   ]
  },
  {
   "cell_type": "code",
   "execution_count": 1,
   "metadata": {},
   "outputs": [],
   "source": [
    "# import Glop linear solver package\n",
    "from ortools.linear_solver import pywraplp as glp\n",
    "\n",
    "# initialize model object\n",
    "mymodel = glp.Solver('Traveling Salesman', glp.Solver.CBC_MIXED_INTEGER_PROGRAMMING)"
   ]
  },
  {
   "cell_type": "markdown",
   "metadata": {},
   "source": [
    "## Parameters"
   ]
  },
  {
   "cell_type": "code",
   "execution_count": 2,
   "metadata": {},
   "outputs": [],
   "source": [
    "# import cost matrix as data frame\n",
    "cost = [[ 0.0,  5.0, 15.0, 10.0], # cost from node 0\n",
    "        [ 5.0,  0.0, 12.0, 20.0],  # node 1\n",
    "        [15.0, 12.0,  0.0,  6.0],  # node 2\n",
    "        [10.0, 20.0,  6.0,  0.0]]  # node 3\n",
    "\n",
    "# coerce data type = integer / numeric?\n",
    "# Probably need a way to create the dummny data from a regular cost matrix\n",
    "\n",
    "# row = starting node, column = ending node (i to j)"
   ]
  },
  {
   "cell_type": "code",
   "execution_count": 3,
   "metadata": {},
   "outputs": [
    {
     "data": {
      "text/plain": [
       "[[0.0, 5.0, 15.0, 10.0],\n",
       " [5.0, 0.0, 12.0, 20.0],\n",
       " [15.0, 12.0, 0.0, 6.0],\n",
       " [10.0, 20.0, 6.0, 0.0]]"
      ]
     },
     "execution_count": 3,
     "metadata": {},
     "output_type": "execute_result"
    }
   ],
   "source": [
    "cost"
   ]
  },
  {
   "cell_type": "code",
   "execution_count": 4,
   "metadata": {},
   "outputs": [],
   "source": [
    "# model parameters\n",
    "N = len(cost) # number of nodes in data frame (including the dummy node)\n",
    "M = N + 1000.0 # arbitrarily large number"
   ]
  },
  {
   "cell_type": "code",
   "execution_count": 5,
   "metadata": {},
   "outputs": [
    {
     "data": {
      "text/plain": [
       "4"
      ]
     },
     "execution_count": 5,
     "metadata": {},
     "output_type": "execute_result"
    }
   ],
   "source": [
    "N"
   ]
  },
  {
   "cell_type": "code",
   "execution_count": 6,
   "metadata": {},
   "outputs": [
    {
     "data": {
      "text/plain": [
       "1004.0"
      ]
     },
     "execution_count": 6,
     "metadata": {},
     "output_type": "execute_result"
    }
   ],
   "source": [
    "M"
   ]
  },
  {
   "cell_type": "markdown",
   "metadata": {},
   "source": [
    "## Decision Variables"
   ]
  },
  {
   "cell_type": "code",
   "execution_count": 7,
   "metadata": {},
   "outputs": [
    {
     "data": {
      "text/plain": [
       "[[0.0, 0.1, 0.2, 0.3],\n",
       " [1.0, 1.1, 1.2, 1.3],\n",
       " [2.0, 2.1, 2.2, 2.3],\n",
       " [3.0, 3.1, 3.2, 3.3]]"
      ]
     },
     "execution_count": 7,
     "metadata": {},
     "output_type": "execute_result"
    }
   ],
   "source": [
    "use_arc = [list(range(1 + N * i, 1 + N * (i+1))) for i in range(N)] \n",
    "for i in range(N):\n",
    "    for j in range(N):\n",
    "        use_arc[i][j] = mymodel.IntVar(0, 1, str(i) + \".\" + str(j))\n",
    "use_arc"
   ]
  },
  {
   "cell_type": "code",
   "execution_count": 8,
   "metadata": {},
   "outputs": [
    {
     "data": {
      "text/plain": [
       "[p_0, p_1, p_2, p_3]"
      ]
     },
     "execution_count": 8,
     "metadata": {},
     "output_type": "execute_result"
    }
   ],
   "source": [
    "# create position variable (lambda / u)\n",
    "pos = list(range(N))\n",
    "pos[0] = mymodel.IntVar(0, 0, 'p_0')\n",
    "for i in range(1,N):\n",
    "    pos[i] = mymodel.IntVar(1, N-1, \"p_\" + str(i))\n",
    "pos"
   ]
  },
  {
   "cell_type": "markdown",
   "metadata": {},
   "source": [
    "## Objective"
   ]
  },
  {
   "cell_type": "code",
   "execution_count": 9,
   "metadata": {},
   "outputs": [],
   "source": [
    "# create objective function\n",
    "shortest_route = mymodel.Objective()\n",
    "shortest_route.SetMinimization()\n",
    "for i in range(N):\n",
    "    for j in range(N):\n",
    "        shortest_route.SetCoefficient(use_arc[i][j], cost[i][j])"
   ]
  },
  {
   "cell_type": "markdown",
   "metadata": {},
   "source": [
    "## Constraints"
   ]
  },
  {
   "cell_type": "markdown",
   "metadata": {},
   "source": [
    "### Arc constraints"
   ]
  },
  {
   "cell_type": "code",
   "execution_count": 10,
   "metadata": {},
   "outputs": [],
   "source": [
    "# Balance - Out\n",
    "# 2.1 + 2.2 + 2.3 + 2.4 + 2.5 = 1\n",
    "\n",
    "# Balance - In\n",
    "# 1.2 + 2.2 + 3.2 + 4.2 + 5.2 = 1\n",
    "\n",
    "# Flow Out\n",
    "\n",
    "Flow_out = list(range(N))\n",
    "\n",
    "for i in range(N): \n",
    "    Flow_out[i] = mymodel.Constraint(1, 1)\n",
    "    for j in range(N):\n",
    "        if i != j: Flow_out[i].SetCoefficient(use_arc[i][j], 1)\n",
    "        \n",
    "# Flow In\n",
    "\n",
    "Flow_in = list(range(N))\n",
    "\n",
    "for i in range(N):\n",
    "    Flow_in[i] = mymodel.Constraint(1, 1)\n",
    "    for j in range(N): \n",
    "        if i!= j: Flow_in[i].SetCoefficient(use_arc[j][i], 1)"
   ]
  },
  {
   "cell_type": "markdown",
   "metadata": {},
   "source": [
    "### Position Constraints"
   ]
  },
  {
   "cell_type": "code",
   "execution_count": 11,
   "metadata": {},
   "outputs": [],
   "source": [
    "# position 1 = 1\n",
    "#position_1 = mymodel.Constraint(1, 1)\n",
    "#position_1.SetCoefficient(pos[0], 1)\n",
    "\n",
    "# position N = N\n",
    "#position_N = mymodel.Constraint(1, 1)\n",
    "#position_N.SetCoefficient(pos[N-1], N)\n",
    "\n",
    "# MTZ Constraint\n",
    "\n",
    "# u[i] - u[j] + (n-1)*x[i][j] <= (n-2)\n",
    "\n",
    "MTZ = [list(range(1 + N * i, 1 + N * (i+1))) for i in range(N)] \n",
    "\n",
    "for i in range(1,N):\n",
    "    for j in range(1,N):\n",
    "        MTZ[i][j] = mymodel.Constraint(-mymodel.infinity(), N-2)\n",
    "        MTZ[i][j].SetCoefficient(use_arc[i][j], N-1)\n",
    "        MTZ[i][j].SetCoefficient(pos[i], 1)\n",
    "        MTZ[i][j].SetCoefficient(pos[j], -1)"
   ]
  },
  {
   "cell_type": "code",
   "execution_count": 12,
   "metadata": {},
   "outputs": [
    {
     "name": "stdout",
     "output_type": "stream",
     "text": [
      "Solution Status = 0\n",
      "Number of variables = 20\n",
      "Number of constraints = 17\n",
      "Optimal Solution:\n",
      "Optimal Value = 33.00\n",
      "pos[0] = 0\n",
      "From 0 to 0: 0.0\n",
      "From 0 to 1: 1.0\n",
      "From 0 to 2: 0.0\n",
      "From 0 to 3: 0.0\n",
      "pos[1] = 1\n",
      "From 1 to 0: 0.0\n",
      "From 1 to 1: 0.0\n",
      "From 1 to 2: 1.0\n",
      "From 1 to 3: 0.0\n",
      "pos[2] = 2\n",
      "From 2 to 0: 0.0\n",
      "From 2 to 1: 0.0\n",
      "From 2 to 2: 0.0\n",
      "From 2 to 3: 1.0\n",
      "pos[3] = 3\n",
      "From 3 to 0: 1.0\n",
      "From 3 to 1: 0.0\n",
      "From 3 to 2: 0.0\n",
      "From 3 to 3: 0.0\n"
     ]
    }
   ],
   "source": [
    "# Solve the model and print optimal solution\n",
    "status = mymodel.Solve()                 # solve mymodel and display the solution\n",
    "\n",
    "print('Solution Status =', status)\n",
    "print('Number of variables =', mymodel.NumVariables())\n",
    "print('Number of constraints =', mymodel.NumConstraints())\n",
    "\n",
    "print('Optimal Solution:')\n",
    "\n",
    "# The objective value of the solution.\n",
    "print('Optimal Value = %.2f' % shortest_route.Value())\n",
    "\n",
    "# Display optimal solution\n",
    "for i in range(N):\n",
    "    print('pos[%d] = %d' % (i, pos[i].solution_value()))\n",
    "    for j in range(N):\n",
    "        print('From ', i, ' to ', j, ': ', use_arc[i][j].solution_value(), sep = '')\n",
    "        \n",
    "#        if i == N-1 or i == j:\n",
    "#            continue\n",
    "#        elif j == N-1:\n",
    " #           j = 1\n",
    " #           print('From node ', i + 1, ' to node ', j + 1, ': ', use_arc[j][i].solution_value(), sep = '')\n",
    " #       else:\n",
    "  #          print('From node ', i + 1, ' to node ', j + 1, ': ', use_arc[j][i].solution_value(), sep = '') "
   ]
  },
  {
   "cell_type": "code",
   "execution_count": null,
   "metadata": {},
   "outputs": [],
   "source": []
  }
 ],
 "metadata": {
  "kernelspec": {
   "display_name": "Python 3",
   "language": "python",
   "name": "python3"
  },
  "language_info": {
   "codemirror_mode": {
    "name": "ipython",
    "version": 3
   },
   "file_extension": ".py",
   "mimetype": "text/x-python",
   "name": "python",
   "nbconvert_exporter": "python",
   "pygments_lexer": "ipython3",
   "version": "3.7.4"
  }
 },
 "nbformat": 4,
 "nbformat_minor": 4
}
