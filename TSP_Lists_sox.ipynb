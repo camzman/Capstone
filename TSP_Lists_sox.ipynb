{
 "cells": [
  {
   "cell_type": "markdown",
   "metadata": {},
   "source": [
    "# Traveling Salesman Problem"
   ]
  },
  {
   "cell_type": "markdown",
   "metadata": {},
   "source": [
    "## Model Initialization"
   ]
  },
  {
   "cell_type": "code",
   "execution_count": 2,
   "metadata": {},
   "outputs": [],
   "source": [
    "# import Glop linear solver package\n",
    "from ortools.linear_solver import pywraplp as glp\n",
    "import csv\n",
    "# initialize model object\n",
    "mymodel = glp.Solver('Traveling Salesman', glp.Solver.CBC_MIXED_INTEGER_PROGRAMMING)"
   ]
  },
  {
   "cell_type": "markdown",
   "metadata": {},
   "source": [
    "## Parameters"
   ]
  },
  {
   "cell_type": "code",
   "execution_count": 3,
   "metadata": {},
   "outputs": [],
   "source": [
    "# import cost matrix as data frame\n",
    "#cost = [[ 0.0,  5.0, 15.0, 10.0], # cost from node 0\n",
    "#        [ 5.0,  0.0, 12.0, 20.0],  # node 1\n",
    "#        [15.0, 12.0,  0.0,  6.0],  # node 2\n",
    "#        [10.0, 20.0,  6.0,  0.0]]  # node 3\n",
    "\n",
    "# coerce data type = integer / numeric?\n",
    "# Probably need a way to create the dummny data from a regular cost matrix\n",
    "\n",
    "# row = starting node, column = ending node (i to j)"
   ]
  },
  {
   "cell_type": "code",
   "execution_count": 4,
   "metadata": {},
   "outputs": [],
   "source": [
    "# import csv distance matrix as list\n",
    "with open('Orders_Data_TSP.csv', newline='') as f:\n",
    "    reader = csv.reader(f)\n",
    "    cost = list(reader)\n",
    "\n",
    "# remove blanks & converting to integers\n",
    "for i in range(len(cost)):\n",
    "    cost[i] = [float(item) for item in cost[i] if item]\n",
    "cost = [item for item in cost if item]"
   ]
  },
  {
   "cell_type": "code",
   "execution_count": 5,
   "metadata": {},
   "outputs": [
    {
     "data": {
      "text/plain": [
       "[[0.0, 100.0, 81.0, 99.0, 61.0, 111.0, 16.0, 76.0, 67.0, 84.0, 102.0],\n",
       " [100.0, 0.0, 97.0, 98.0, 41.0, 93.0, 97.0, 92.0, 48.0, 51.0, 9.0],\n",
       " [81.0, 97.0, 0.0, 19.0, 66.0, 36.0, 66.0, 6.0, 51.0, 47.0, 92.0],\n",
       " [99.0, 98.0, 19.0, 0.0, 74.0, 18.0, 84.0, 23.0, 58.0, 47.0, 92.0],\n",
       " [61.0, 41.0, 66.0, 74.0, 0.0, 77.0, 56.0, 61.0, 17.0, 34.0, 42.0],\n",
       " [111.0, 93.0, 36.0, 18.0, 77.0, 0.0, 97.0, 38.0, 60.0, 45.0, 86.0],\n",
       " [16.0, 97.0, 66.0, 84.0, 56.0, 97.0, 0.0, 60.0, 59.0, 73.0, 98.0],\n",
       " [76.0, 92.0, 6.0, 23.0, 61.0, 38.0, 60.0, 0.0, 46.0, 43.0, 88.0],\n",
       " [67.0, 48.0, 51.0, 58.0, 17.0, 60.0, 59.0, 46.0, 0.0, 18.0, 45.0],\n",
       " [84.0, 51.0, 47.0, 47.0, 34.0, 45.0, 73.0, 43.0, 18.0, 0.0, 45.0],\n",
       " [102.0, 9.0, 92.0, 92.0, 42.0, 86.0, 98.0, 88.0, 45.0, 45.0, 0.0]]"
      ]
     },
     "execution_count": 5,
     "metadata": {},
     "output_type": "execute_result"
    }
   ],
   "source": [
    "cost"
   ]
  },
  {
   "cell_type": "code",
   "execution_count": 6,
   "metadata": {},
   "outputs": [],
   "source": [
    "# model parameters\n",
    "N = len(cost) # number of nodes in data frame (including the dummy node)\n",
    "M = N + 1000.0 # arbitrarily large number"
   ]
  },
  {
   "cell_type": "code",
   "execution_count": 7,
   "metadata": {},
   "outputs": [
    {
     "data": {
      "text/plain": [
       "11"
      ]
     },
     "execution_count": 7,
     "metadata": {},
     "output_type": "execute_result"
    }
   ],
   "source": [
    "N"
   ]
  },
  {
   "cell_type": "code",
   "execution_count": 8,
   "metadata": {},
   "outputs": [
    {
     "data": {
      "text/plain": [
       "1011.0"
      ]
     },
     "execution_count": 8,
     "metadata": {},
     "output_type": "execute_result"
    }
   ],
   "source": [
    "M"
   ]
  },
  {
   "cell_type": "markdown",
   "metadata": {},
   "source": [
    "## Decision Variables"
   ]
  },
  {
   "cell_type": "code",
   "execution_count": 9,
   "metadata": {},
   "outputs": [
    {
     "data": {
      "text/plain": [
       "[[0.0, 0.1, 0.2, 0.3, 0.4, 0.5, 0.6, 0.7, 0.8, 0.9, 0.10],\n",
       " [1.0, 1.1, 1.2, 1.3, 1.4, 1.5, 1.6, 1.7, 1.8, 1.9, 1.10],\n",
       " [2.0, 2.1, 2.2, 2.3, 2.4, 2.5, 2.6, 2.7, 2.8, 2.9, 2.10],\n",
       " [3.0, 3.1, 3.2, 3.3, 3.4, 3.5, 3.6, 3.7, 3.8, 3.9, 3.10],\n",
       " [4.0, 4.1, 4.2, 4.3, 4.4, 4.5, 4.6, 4.7, 4.8, 4.9, 4.10],\n",
       " [5.0, 5.1, 5.2, 5.3, 5.4, 5.5, 5.6, 5.7, 5.8, 5.9, 5.10],\n",
       " [6.0, 6.1, 6.2, 6.3, 6.4, 6.5, 6.6, 6.7, 6.8, 6.9, 6.10],\n",
       " [7.0, 7.1, 7.2, 7.3, 7.4, 7.5, 7.6, 7.7, 7.8, 7.9, 7.10],\n",
       " [8.0, 8.1, 8.2, 8.3, 8.4, 8.5, 8.6, 8.7, 8.8, 8.9, 8.10],\n",
       " [9.0, 9.1, 9.2, 9.3, 9.4, 9.5, 9.6, 9.7, 9.8, 9.9, 9.10],\n",
       " [10.0, 10.1, 10.2, 10.3, 10.4, 10.5, 10.6, 10.7, 10.8, 10.9, 10.10]]"
      ]
     },
     "execution_count": 9,
     "metadata": {},
     "output_type": "execute_result"
    }
   ],
   "source": [
    "use_arc = [list(range(1 + N * i, 1 + N * (i+1))) for i in range(N)] \n",
    "for i in range(N):\n",
    "    for j in range(N):\n",
    "        use_arc[i][j] = mymodel.IntVar(0, 1, str(i) + \".\" + str(j))\n",
    "use_arc"
   ]
  },
  {
   "cell_type": "code",
   "execution_count": 10,
   "metadata": {},
   "outputs": [
    {
     "data": {
      "text/plain": [
       "[p_0, p_1, p_2, p_3, p_4, p_5, p_6, p_7, p_8, p_9, p_10]"
      ]
     },
     "execution_count": 10,
     "metadata": {},
     "output_type": "execute_result"
    }
   ],
   "source": [
    "# create position variable (lambda / u)\n",
    "pos = list(range(N))\n",
    "pos[0] = mymodel.IntVar(0, 0, 'p_0')\n",
    "for i in range(1,N):\n",
    "    pos[i] = mymodel.IntVar(1, N-1, \"p_\" + str(i))\n",
    "pos"
   ]
  },
  {
   "cell_type": "markdown",
   "metadata": {},
   "source": [
    "## Objective"
   ]
  },
  {
   "cell_type": "code",
   "execution_count": 11,
   "metadata": {},
   "outputs": [],
   "source": [
    "# create objective function\n",
    "shortest_route = mymodel.Objective()\n",
    "shortest_route.SetMinimization()\n",
    "for i in range(N):\n",
    "    for j in range(N):\n",
    "        shortest_route.SetCoefficient(use_arc[i][j], cost[i][j])"
   ]
  },
  {
   "cell_type": "markdown",
   "metadata": {},
   "source": [
    "## Constraints"
   ]
  },
  {
   "cell_type": "markdown",
   "metadata": {},
   "source": [
    "### Arc constraints"
   ]
  },
  {
   "cell_type": "code",
   "execution_count": 12,
   "metadata": {},
   "outputs": [],
   "source": [
    "# Balance - Out\n",
    "# 2.1 + 2.2 + 2.3 + 2.4 + 2.5 = 1\n",
    "\n",
    "# Balance - In\n",
    "# 1.2 + 2.2 + 3.2 + 4.2 + 5.2 = 1\n",
    "\n",
    "# Flow Out\n",
    "\n",
    "Flow_out = list(range(N))\n",
    "\n",
    "for i in range(N): \n",
    "    Flow_out[i] = mymodel.Constraint(1, 1)\n",
    "    for j in range(N):\n",
    "        if i != j: Flow_out[i].SetCoefficient(use_arc[i][j], 1)\n",
    "        \n",
    "# Flow In\n",
    "\n",
    "Flow_in = list(range(N))\n",
    "\n",
    "for i in range(N):\n",
    "    Flow_in[i] = mymodel.Constraint(1, 1)\n",
    "    for j in range(N): \n",
    "        if i!= j: Flow_in[i].SetCoefficient(use_arc[j][i], 1)"
   ]
  },
  {
   "cell_type": "markdown",
   "metadata": {},
   "source": [
    "### Position Constraints"
   ]
  },
  {
   "cell_type": "code",
   "execution_count": 13,
   "metadata": {},
   "outputs": [],
   "source": [
    "# position 1 = 1\n",
    "#position_1 = mymodel.Constraint(1, 1)\n",
    "#position_1.SetCoefficient(pos[0], 1)\n",
    "\n",
    "# position N = N\n",
    "#position_N = mymodel.Constraint(1, 1)\n",
    "#position_N.SetCoefficient(pos[N-1], N)\n",
    "\n",
    "# MTZ Constraint\n",
    "\n",
    "# u[i] - u[j] + (n-1)*x[i][j] <= (n-2)\n",
    "\n",
    "MTZ = [list(range(1 + N * i, 1 + N * (i+1))) for i in range(N)] \n",
    "\n",
    "for i in range(1,N):\n",
    "    for j in range(1,N):\n",
    "        MTZ[i][j] = mymodel.Constraint(-mymodel.infinity(), N-2)\n",
    "        MTZ[i][j].SetCoefficient(use_arc[i][j], N-1)\n",
    "        MTZ[i][j].SetCoefficient(pos[i], 1)\n",
    "        MTZ[i][j].SetCoefficient(pos[j], -1)"
   ]
  },
  {
   "cell_type": "code",
   "execution_count": 14,
   "metadata": {},
   "outputs": [
    {
     "name": "stdout",
     "output_type": "stream",
     "text": [
      "Solution Status = 0\n",
      "Number of variables = 132\n",
      "Number of constraints = 122\n",
      "Optimal Solution:\n",
      "Optimal Value = 338.00\n",
      "pos[0] = 0\n",
      "From 0 to 0: 0.0\n",
      "From 0 to 1: 0.0\n",
      "From 0 to 2: 0.0\n",
      "From 0 to 3: 0.0\n",
      "From 0 to 4: 0.0\n",
      "From 0 to 5: 0.0\n",
      "From 0 to 6: 1.0\n",
      "From 0 to 7: 0.0\n",
      "From 0 to 8: 0.0\n",
      "From 0 to 9: 0.0\n",
      "From 0 to 10: 0.0\n",
      "pos[1] = 9\n",
      "From 1 to 0: 0.0\n",
      "From 1 to 1: 0.0\n",
      "From 1 to 2: 0.0\n",
      "From 1 to 3: 0.0\n",
      "From 1 to 4: 1.0\n",
      "From 1 to 5: 0.0\n",
      "From 1 to 6: 0.0\n",
      "From 1 to 7: 0.0\n",
      "From 1 to 8: 0.0\n",
      "From 1 to 9: 0.0\n",
      "From 1 to 10: 0.0\n",
      "pos[2] = 3\n",
      "From 2 to 0: 0.0\n",
      "From 2 to 1: 0.0\n",
      "From 2 to 2: 0.0\n",
      "From 2 to 3: 1.0\n",
      "From 2 to 4: 0.0\n",
      "From 2 to 5: 0.0\n",
      "From 2 to 6: 0.0\n",
      "From 2 to 7: 0.0\n",
      "From 2 to 8: 0.0\n",
      "From 2 to 9: 0.0\n",
      "From 2 to 10: 0.0\n",
      "pos[3] = 4\n",
      "From 3 to 0: 0.0\n",
      "From 3 to 1: 0.0\n",
      "From 3 to 2: 0.0\n",
      "From 3 to 3: 0.0\n",
      "From 3 to 4: 0.0\n",
      "From 3 to 5: 1.0\n",
      "From 3 to 6: 0.0\n",
      "From 3 to 7: 0.0\n",
      "From 3 to 8: 0.0\n",
      "From 3 to 9: 0.0\n",
      "From 3 to 10: 0.0\n",
      "pos[4] = 10\n",
      "From 4 to 0: 1.0\n",
      "From 4 to 1: 0.0\n",
      "From 4 to 2: 0.0\n",
      "From 4 to 3: 0.0\n",
      "From 4 to 4: 0.0\n",
      "From 4 to 5: 0.0\n",
      "From 4 to 6: 0.0\n",
      "From 4 to 7: 0.0\n",
      "From 4 to 8: 0.0\n",
      "From 4 to 9: 0.0\n",
      "From 4 to 10: 0.0\n",
      "pos[5] = 5\n",
      "From 5 to 0: 0.0\n",
      "From 5 to 1: 0.0\n",
      "From 5 to 2: 0.0\n",
      "From 5 to 3: 0.0\n",
      "From 5 to 4: 0.0\n",
      "From 5 to 5: 0.0\n",
      "From 5 to 6: 0.0\n",
      "From 5 to 7: 0.0\n",
      "From 5 to 8: 0.0\n",
      "From 5 to 9: 1.0\n",
      "From 5 to 10: 0.0\n",
      "pos[6] = 1\n",
      "From 6 to 0: 0.0\n",
      "From 6 to 1: 0.0\n",
      "From 6 to 2: 0.0\n",
      "From 6 to 3: 0.0\n",
      "From 6 to 4: 0.0\n",
      "From 6 to 5: 0.0\n",
      "From 6 to 6: 0.0\n",
      "From 6 to 7: 1.0\n",
      "From 6 to 8: 0.0\n",
      "From 6 to 9: 0.0\n",
      "From 6 to 10: 0.0\n",
      "pos[7] = 2\n",
      "From 7 to 0: 0.0\n",
      "From 7 to 1: 0.0\n",
      "From 7 to 2: 1.0\n",
      "From 7 to 3: 0.0\n",
      "From 7 to 4: 0.0\n",
      "From 7 to 5: 0.0\n",
      "From 7 to 6: 0.0\n",
      "From 7 to 7: 0.0\n",
      "From 7 to 8: 0.0\n",
      "From 7 to 9: 0.0\n",
      "From 7 to 10: 0.0\n",
      "pos[8] = 7\n",
      "From 8 to 0: 0.0\n",
      "From 8 to 1: 0.0\n",
      "From 8 to 2: 0.0\n",
      "From 8 to 3: 0.0\n",
      "From 8 to 4: 0.0\n",
      "From 8 to 5: 0.0\n",
      "From 8 to 6: 0.0\n",
      "From 8 to 7: 0.0\n",
      "From 8 to 8: 0.0\n",
      "From 8 to 9: 0.0\n",
      "From 8 to 10: 1.0\n",
      "pos[9] = 6\n",
      "From 9 to 0: 0.0\n",
      "From 9 to 1: 0.0\n",
      "From 9 to 2: 0.0\n",
      "From 9 to 3: 0.0\n",
      "From 9 to 4: 0.0\n",
      "From 9 to 5: 0.0\n",
      "From 9 to 6: 0.0\n",
      "From 9 to 7: 0.0\n",
      "From 9 to 8: 1.0\n",
      "From 9 to 9: 0.0\n",
      "From 9 to 10: 0.0\n",
      "pos[10] = 8\n",
      "From 10 to 0: 0.0\n",
      "From 10 to 1: 1.0\n",
      "From 10 to 2: 0.0\n",
      "From 10 to 3: 0.0\n",
      "From 10 to 4: 0.0\n",
      "From 10 to 5: 0.0\n",
      "From 10 to 6: 0.0\n",
      "From 10 to 7: 0.0\n",
      "From 10 to 8: 0.0\n",
      "From 10 to 9: 0.0\n",
      "From 10 to 10: 0.0\n"
     ]
    }
   ],
   "source": [
    "# Solve the model and print optimal solution\n",
    "status = mymodel.Solve()                 # solve mymodel and display the solution\n",
    "\n",
    "print('Solution Status =', status)\n",
    "print('Number of variables =', mymodel.NumVariables())\n",
    "print('Number of constraints =', mymodel.NumConstraints())\n",
    "\n",
    "print('Optimal Solution:')\n",
    "\n",
    "# The objective value of the solution.\n",
    "print('Optimal Value = %.2f' % shortest_route.Value())\n",
    "\n",
    "# Display optimal solution\n",
    "for i in range(N):\n",
    "    print('pos[%d] = %d' % (i, pos[i].solution_value()))\n",
    "    for j in range(N):\n",
    "        print('From ', i, ' to ', j, ': ', use_arc[i][j].solution_value(), sep = '')\n",
    "        \n",
    "#        if i == N-1 or i == j:\n",
    "#            continue\n",
    "#        elif j == N-1:\n",
    " #           j = 1\n",
    " #           print('From node ', i + 1, ' to node ', j + 1, ': ', use_arc[j][i].solution_value(), sep = '')\n",
    " #       else:\n",
    "  #          print('From node ', i + 1, ' to node ', j + 1, ': ', use_arc[j][i].solution_value(), sep = '') "
   ]
  },
  {
   "cell_type": "markdown",
   "metadata": {},
   "source": [
    "## Plot the Solution"
   ]
  },
  {
   "cell_type": "code",
   "execution_count": 15,
   "metadata": {},
   "outputs": [],
   "source": [
    "import matplotlib as plt\n",
    "import networkx as nx"
   ]
  },
  {
   "cell_type": "code",
   "execution_count": 16,
   "metadata": {},
   "outputs": [
    {
     "data": {
      "text/plain": [
       "[[0.0, 0.0],\n",
       " [13.0, 99.0],\n",
       " [77.0, 26.0],\n",
       " [91.0, 39.0],\n",
       " [19.0, 58.0],\n",
       " [96.0, 56.0],\n",
       " [16.0, 2.0],\n",
       " [71.0, 27.0],\n",
       " [36.0, 57.0],\n",
       " [52.0, 66.0],\n",
       " [22.0, 100.0]]"
      ]
     },
     "execution_count": 16,
     "metadata": {},
     "output_type": "execute_result"
    }
   ],
   "source": [
    "# import csv x, y coord matrix as list\n",
    "with open('XYcoord.csv', newline='') as f:\n",
    "    reader = csv.reader(f)\n",
    "    coord = list(reader)\n",
    "\n",
    "# remove blanks & converting to integers\n",
    "for i in range(len(coord)):\n",
    "    coord[i] = [float(item) for item in coord[i] if item]\n",
    "coord = [item for item in coord if item]\n",
    "coord"
   ]
  },
  {
   "cell_type": "code",
   "execution_count": 17,
   "metadata": {},
   "outputs": [
    {
     "data": {
      "text/plain": [
       "[0.0, 99.0, 26.0, 39.0, 58.0, 56.0, 2.0, 27.0, 57.0, 66.0, 100.0]"
      ]
     },
     "execution_count": 17,
     "metadata": {},
     "output_type": "execute_result"
    }
   ],
   "source": [
    "x = []\n",
    "y = []\n",
    "for i in range(len(coord)):\n",
    "    x.append(coord[i][0])\n",
    "    y.append(coord[i][1])\n",
    "y"
   ]
  },
  {
   "cell_type": "code",
   "execution_count": null,
   "metadata": {},
   "outputs": [],
   "source": []
  },
  {
   "cell_type": "code",
   "execution_count": 18,
   "metadata": {},
   "outputs": [
    {
     "data": {
      "text/plain": [
       "[[0, 6, 16.0],\n",
       " [1, 4, 41.0],\n",
       " [2, 3, 19.0],\n",
       " [3, 5, 18.0],\n",
       " [4, 0, 61.0],\n",
       " [5, 9, 45.0],\n",
       " [6, 7, 60.0],\n",
       " [7, 2, 6.0],\n",
       " [8, 10, 45.0],\n",
       " [9, 8, 18.0],\n",
       " [10, 1, 9.0]]"
      ]
     },
     "execution_count": 18,
     "metadata": {},
     "output_type": "execute_result"
    }
   ],
   "source": [
    "location = []\n",
    "node = []\n",
    "edge = []\n",
    "\n",
    "for i in range(N):\n",
    "    location.append(int(pos[i].solution_value()))\n",
    "    node.append(int(i))\n",
    "    for j in range(N):\n",
    "        if use_arc[i][j].solution_value() == 1.0:\n",
    "            edge.append([i, j, cost[i][j]])\n",
    "edge"
   ]
  },
  {
   "cell_type": "code",
   "execution_count": 19,
   "metadata": {},
   "outputs": [],
   "source": [
    "G = nx.Graph()"
   ]
  },
  {
   "cell_type": "code",
   "execution_count": 24,
   "metadata": {},
   "outputs": [
    {
     "ename": "TypeError",
     "evalue": "add_edge() takes 3 positional arguments but 4 were given",
     "output_type": "error",
     "traceback": [
      "\u001b[1;31m---------------------------------------------------------------------------\u001b[0m",
      "\u001b[1;31mTypeError\u001b[0m                                 Traceback (most recent call last)",
      "\u001b[1;32m<ipython-input-24-434dfb72e77f>\u001b[0m in \u001b[0;36m<module>\u001b[1;34m\u001b[0m\n\u001b[0;32m      1\u001b[0m \u001b[1;32mfor\u001b[0m \u001b[0mi\u001b[0m \u001b[1;32min\u001b[0m \u001b[0mrange\u001b[0m\u001b[1;33m(\u001b[0m\u001b[0mlen\u001b[0m\u001b[1;33m(\u001b[0m\u001b[0medge\u001b[0m\u001b[1;33m)\u001b[0m\u001b[1;33m)\u001b[0m\u001b[1;33m:\u001b[0m\u001b[1;33m\u001b[0m\u001b[1;33m\u001b[0m\u001b[0m\n\u001b[1;32m----> 2\u001b[1;33m     \u001b[0mG\u001b[0m\u001b[1;33m.\u001b[0m\u001b[0madd_edge\u001b[0m\u001b[1;33m(\u001b[0m\u001b[0medge\u001b[0m\u001b[1;33m[\u001b[0m\u001b[0mi\u001b[0m\u001b[1;33m]\u001b[0m\u001b[1;33m[\u001b[0m\u001b[1;36m0\u001b[0m\u001b[1;33m]\u001b[0m\u001b[1;33m,\u001b[0m \u001b[0medge\u001b[0m\u001b[1;33m[\u001b[0m\u001b[0mi\u001b[0m\u001b[1;33m]\u001b[0m\u001b[1;33m[\u001b[0m\u001b[1;36m1\u001b[0m\u001b[1;33m]\u001b[0m\u001b[1;33m,\u001b[0m \u001b[0medge\u001b[0m\u001b[1;33m[\u001b[0m\u001b[0mi\u001b[0m\u001b[1;33m]\u001b[0m\u001b[1;33m[\u001b[0m\u001b[1;36m2\u001b[0m\u001b[1;33m]\u001b[0m\u001b[1;33m)\u001b[0m\u001b[1;33m\u001b[0m\u001b[1;33m\u001b[0m\u001b[0m\n\u001b[0m",
      "\u001b[1;31mTypeError\u001b[0m: add_edge() takes 3 positional arguments but 4 were given"
     ]
    }
   ],
   "source": [
    "\n",
    "for i in range(len(edge)):\n",
    "    G.add_edge(edge[i][0], edge[i][1], edge[i][2])"
   ]
  },
  {
   "cell_type": "code",
   "execution_count": 26,
   "metadata": {},
   "outputs": [
    {
     "data": {
      "text/plain": [
       "range(0, 11)"
      ]
     },
     "execution_count": 26,
     "metadata": {},
     "output_type": "execute_result"
    }
   ],
   "source": [
    "range(len(edge))"
   ]
  },
  {
   "cell_type": "code",
   "execution_count": null,
   "metadata": {},
   "outputs": [],
   "source": [
    "nodelist = []\n",
    "for i in range(N):\n",
    "    nodelist.append([i, x[i], y[i]])\n",
    "nodelist"
   ]
  },
  {
   "cell_type": "code",
   "execution_count": null,
   "metadata": {},
   "outputs": [],
   "source": [
    "for i in range(len(node)):\n",
    "    node_positions = {node[i] : (x[i], -y[i])}\n",
    "node_positions"
   ]
  },
  {
   "cell_type": "code",
   "execution_count": null,
   "metadata": {},
   "outputs": [],
   "source": [
    "for i, elrow in edgelist.iterrows():\n",
    "    g.add_edge(elrow[0], elrow[1], attr_dict=elrow[2:].to_dict())"
   ]
  },
  {
   "cell_type": "code",
   "execution_count": null,
   "metadata": {},
   "outputs": [],
   "source": [
    "plt.figure(figsize=(8, 6))\n",
    "nx.draw(g, pos=node_positions, edge_color='blue', node_size=10, node_color='black')\n",
    "plt.title(print('TSP Solution with %d nodes' % N), size=15)\n",
    "plt.show()"
   ]
  },
  {
   "cell_type": "code",
   "execution_count": null,
   "metadata": {},
   "outputs": [],
   "source": [
    "print('pos[%d] = %d' % (i, pos[i].solution_value()))"
   ]
  },
  {
   "cell_type": "code",
   "execution_count": null,
   "metadata": {},
   "outputs": [],
   "source": []
  }
 ],
 "metadata": {
  "kernelspec": {
   "display_name": "Python 3",
   "language": "python",
   "name": "python3"
  },
  "language_info": {
   "codemirror_mode": {
    "name": "ipython",
    "version": 3
   },
   "file_extension": ".py",
   "mimetype": "text/x-python",
   "name": "python",
   "nbconvert_exporter": "python",
   "pygments_lexer": "ipython3",
   "version": "3.7.4"
  }
 },
 "nbformat": 4,
 "nbformat_minor": 4
}
