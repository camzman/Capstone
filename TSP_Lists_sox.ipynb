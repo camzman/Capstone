{
 "cells": [
  {
   "cell_type": "markdown",
   "metadata": {},
   "source": [
    "# Traveling Salesman Problem"
   ]
  },
  {
   "cell_type": "markdown",
   "metadata": {},
   "source": [
    "## Model Initialization"
   ]
  },
  {
   "cell_type": "code",
   "execution_count": 1,
   "metadata": {},
   "outputs": [],
   "source": [
    "# import Glop linear solver package\n",
    "from ortools.linear_solver import pywraplp as glp\n",
    "import csv\n",
    "import pandas as pd\n",
    "# initialize model object\n",
    "mymodel = glp.Solver('Traveling Salesman', glp.Solver.CBC_MIXED_INTEGER_PROGRAMMING)"
   ]
  },
  {
   "cell_type": "markdown",
   "metadata": {},
   "source": [
    "## Parameters"
   ]
  },
  {
   "cell_type": "code",
   "execution_count": 2,
   "metadata": {},
   "outputs": [],
   "source": [
    "# import cost matrix as data frame\n",
    "#cost = [[ 0.0,  5.0, 15.0, 10.0], # cost from node 0\n",
    "#        [ 5.0,  0.0, 12.0, 20.0],  # node 1\n",
    "#        [15.0, 12.0,  0.0,  6.0],  # node 2\n",
    "#        [10.0, 20.0,  6.0,  0.0]]  # node 3"
   ]
  },
  {
   "cell_type": "code",
   "execution_count": null,
   "metadata": {},
   "outputs": [],
   "source": [
    "# Set filepath for CSV with cost / distance data\n",
    "filepath = 'Orders_Data_TSP.csv'"
   ]
  },
  {
   "cell_type": "code",
   "execution_count": 20,
   "metadata": {},
   "outputs": [],
   "source": [
    "# import csv distance matrix as list\n",
    "with open(filepath, newline='') as f:\n",
    "    reader = csv.reader(f)\n",
    "    cost = list(reader)\n",
    "\n",
    "# remove blanks & converting to integers\n",
    "for i in range(len(cost)):\n",
    "    cost[i] = [float(item) for item in cost[i] if item]\n",
    "cost = [item for item in cost if item]"
   ]
  },
  {
   "cell_type": "code",
   "execution_count": 21,
   "metadata": {},
   "outputs": [
    {
     "data": {
      "text/plain": [
       "[[0.0, 100.0, 81.0, 99.0, 61.0, 111.0, 16.0, 76.0, 67.0, 84.0, 102.0],\n",
       " [100.0, 0.0, 97.0, 98.0, 41.0, 93.0, 97.0, 92.0, 48.0, 51.0, 9.0],\n",
       " [81.0, 97.0, 0.0, 19.0, 66.0, 36.0, 66.0, 6.0, 51.0, 47.0, 92.0],\n",
       " [99.0, 98.0, 19.0, 0.0, 74.0, 18.0, 84.0, 23.0, 58.0, 47.0, 92.0],\n",
       " [61.0, 41.0, 66.0, 74.0, 0.0, 77.0, 56.0, 61.0, 17.0, 34.0, 42.0],\n",
       " [111.0, 93.0, 36.0, 18.0, 77.0, 0.0, 97.0, 38.0, 60.0, 45.0, 86.0],\n",
       " [16.0, 97.0, 66.0, 84.0, 56.0, 97.0, 0.0, 60.0, 59.0, 73.0, 98.0],\n",
       " [76.0, 92.0, 6.0, 23.0, 61.0, 38.0, 60.0, 0.0, 46.0, 43.0, 88.0],\n",
       " [67.0, 48.0, 51.0, 58.0, 17.0, 60.0, 59.0, 46.0, 0.0, 18.0, 45.0],\n",
       " [84.0, 51.0, 47.0, 47.0, 34.0, 45.0, 73.0, 43.0, 18.0, 0.0, 45.0],\n",
       " [102.0, 9.0, 92.0, 92.0, 42.0, 86.0, 98.0, 88.0, 45.0, 45.0, 0.0]]"
      ]
     },
     "execution_count": 21,
     "metadata": {},
     "output_type": "execute_result"
    }
   ],
   "source": [
    "cost"
   ]
  },
  {
   "cell_type": "code",
   "execution_count": 5,
   "metadata": {},
   "outputs": [],
   "source": [
    "# model parameters\n",
    "N = len(cost) # number of nodes in data frame (including the dummy node)\n",
    "M = N + 1000.0 # arbitrarily large number"
   ]
  },
  {
   "cell_type": "markdown",
   "metadata": {},
   "source": [
    "## Decision Variables"
   ]
  },
  {
   "cell_type": "code",
   "execution_count": 6,
   "metadata": {},
   "outputs": [
    {
     "data": {
      "text/plain": [
       "[[0.0, 0.1, 0.2, 0.3, 0.4, 0.5, 0.6, 0.7, 0.8, 0.9, 0.10],\n",
       " [1.0, 1.1, 1.2, 1.3, 1.4, 1.5, 1.6, 1.7, 1.8, 1.9, 1.10],\n",
       " [2.0, 2.1, 2.2, 2.3, 2.4, 2.5, 2.6, 2.7, 2.8, 2.9, 2.10],\n",
       " [3.0, 3.1, 3.2, 3.3, 3.4, 3.5, 3.6, 3.7, 3.8, 3.9, 3.10],\n",
       " [4.0, 4.1, 4.2, 4.3, 4.4, 4.5, 4.6, 4.7, 4.8, 4.9, 4.10],\n",
       " [5.0, 5.1, 5.2, 5.3, 5.4, 5.5, 5.6, 5.7, 5.8, 5.9, 5.10],\n",
       " [6.0, 6.1, 6.2, 6.3, 6.4, 6.5, 6.6, 6.7, 6.8, 6.9, 6.10],\n",
       " [7.0, 7.1, 7.2, 7.3, 7.4, 7.5, 7.6, 7.7, 7.8, 7.9, 7.10],\n",
       " [8.0, 8.1, 8.2, 8.3, 8.4, 8.5, 8.6, 8.7, 8.8, 8.9, 8.10],\n",
       " [9.0, 9.1, 9.2, 9.3, 9.4, 9.5, 9.6, 9.7, 9.8, 9.9, 9.10],\n",
       " [10.0, 10.1, 10.2, 10.3, 10.4, 10.5, 10.6, 10.7, 10.8, 10.9, 10.10]]"
      ]
     },
     "execution_count": 6,
     "metadata": {},
     "output_type": "execute_result"
    }
   ],
   "source": [
    "use_arc = [list(range(1 + N * i, 1 + N * (i+1))) for i in range(N)] \n",
    "for i in range(N):\n",
    "    for j in range(N):\n",
    "        use_arc[i][j] = mymodel.IntVar(0, 1, str(i) + \".\" + str(j))\n",
    "use_arc"
   ]
  },
  {
   "cell_type": "code",
   "execution_count": 7,
   "metadata": {},
   "outputs": [
    {
     "data": {
      "text/plain": [
       "[p_0, p_1, p_2, p_3, p_4, p_5, p_6, p_7, p_8, p_9, p_10]"
      ]
     },
     "execution_count": 7,
     "metadata": {},
     "output_type": "execute_result"
    }
   ],
   "source": [
    "# create position variable (lambda / u)\n",
    "pos = list(range(N))\n",
    "pos[0] = mymodel.IntVar(0, 0, 'p_0')\n",
    "for i in range(1,N):\n",
    "    pos[i] = mymodel.IntVar(1, N-1, \"p_\" + str(i))\n",
    "pos"
   ]
  },
  {
   "cell_type": "markdown",
   "metadata": {},
   "source": [
    "## Objective"
   ]
  },
  {
   "cell_type": "code",
   "execution_count": 8,
   "metadata": {},
   "outputs": [],
   "source": [
    "# create objective function\n",
    "shortest_route = mymodel.Objective()\n",
    "shortest_route.SetMinimization()\n",
    "for i in range(N):\n",
    "    for j in range(N):\n",
    "        shortest_route.SetCoefficient(use_arc[i][j], cost[i][j])"
   ]
  },
  {
   "cell_type": "markdown",
   "metadata": {},
   "source": [
    "## Constraints"
   ]
  },
  {
   "cell_type": "markdown",
   "metadata": {},
   "source": [
    "### Arc constraints"
   ]
  },
  {
   "cell_type": "code",
   "execution_count": 9,
   "metadata": {},
   "outputs": [],
   "source": [
    "# Flow Out\n",
    "\n",
    "Flow_out = list(range(N))\n",
    "\n",
    "for i in range(N): \n",
    "    Flow_out[i] = mymodel.Constraint(1, 1)\n",
    "    for j in range(N):\n",
    "        if i != j: Flow_out[i].SetCoefficient(use_arc[i][j], 1)\n",
    "        \n",
    "# Flow In\n",
    "\n",
    "Flow_in = list(range(N))\n",
    "\n",
    "for i in range(N):\n",
    "    Flow_in[i] = mymodel.Constraint(1, 1)\n",
    "    for j in range(N): \n",
    "        if i!= j: Flow_in[i].SetCoefficient(use_arc[j][i], 1)"
   ]
  },
  {
   "cell_type": "markdown",
   "metadata": {},
   "source": [
    "### Position Constraints"
   ]
  },
  {
   "cell_type": "code",
   "execution_count": 10,
   "metadata": {},
   "outputs": [],
   "source": [
    "MTZ = [list(range(1 + N * i, 1 + N * (i+1))) for i in range(N)] \n",
    "\n",
    "for i in range(1,N):\n",
    "    for j in range(1,N):\n",
    "        MTZ[i][j] = mymodel.Constraint(-mymodel.infinity(), N-2)\n",
    "        MTZ[i][j].SetCoefficient(use_arc[i][j], N-1)\n",
    "        MTZ[i][j].SetCoefficient(pos[i], 1)\n",
    "        MTZ[i][j].SetCoefficient(pos[j], -1)"
   ]
  },
  {
   "cell_type": "markdown",
   "metadata": {},
   "source": [
    "### Solve"
   ]
  },
  {
   "cell_type": "code",
   "execution_count": 11,
   "metadata": {},
   "outputs": [
    {
     "name": "stdout",
     "output_type": "stream",
     "text": [
      "Solution Status = 0\n",
      "Number of variables = 132\n",
      "Number of constraints = 122\n",
      "Optimal Solution:\n",
      "Optimal Value = 338.00\n"
     ]
    }
   ],
   "source": [
    "# Solve the model and print optimal solution\n",
    "status = mymodel.Solve()                 # solve mymodel and display the solution\n",
    "\n",
    "print('Solution Status =', status)\n",
    "print('Number of variables =', mymodel.NumVariables())\n",
    "print('Number of constraints =', mymodel.NumConstraints())\n",
    "\n",
    "print('Optimal Solution:')\n",
    "\n",
    "# The objective value of the solution.\n",
    "print('Optimal Value = %.2f' % shortest_route.Value())\n",
    "\n",
    "# Display optimal solution\n",
    "#for i in range(N):\n",
    "#    print('pos[%d] = %d' % (i, pos[i].solution_value()))\n",
    "#    for j in range(N):\n",
    " #       print('From ', i, ' to ', j, ': ', use_arc[i][j].solution_value(), sep = '')"
   ]
  },
  {
   "cell_type": "code",
   "execution_count": 12,
   "metadata": {},
   "outputs": [
    {
     "data": {
      "text/html": [
       "<div>\n",
       "<style scoped>\n",
       "    .dataframe tbody tr th:only-of-type {\n",
       "        vertical-align: middle;\n",
       "    }\n",
       "\n",
       "    .dataframe tbody tr th {\n",
       "        vertical-align: top;\n",
       "    }\n",
       "\n",
       "    .dataframe thead th {\n",
       "        text-align: right;\n",
       "    }\n",
       "</style>\n",
       "<table border=\"1\" class=\"dataframe\">\n",
       "  <thead>\n",
       "    <tr style=\"text-align: right;\">\n",
       "      <th></th>\n",
       "      <th>Position</th>\n",
       "      <th>From</th>\n",
       "      <th>To</th>\n",
       "    </tr>\n",
       "  </thead>\n",
       "  <tbody>\n",
       "    <tr>\n",
       "      <td>0</td>\n",
       "      <td>1</td>\n",
       "      <td>0</td>\n",
       "      <td>6</td>\n",
       "    </tr>\n",
       "    <tr>\n",
       "      <td>1</td>\n",
       "      <td>2</td>\n",
       "      <td>6</td>\n",
       "      <td>7</td>\n",
       "    </tr>\n",
       "    <tr>\n",
       "      <td>2</td>\n",
       "      <td>3</td>\n",
       "      <td>7</td>\n",
       "      <td>2</td>\n",
       "    </tr>\n",
       "    <tr>\n",
       "      <td>3</td>\n",
       "      <td>4</td>\n",
       "      <td>2</td>\n",
       "      <td>3</td>\n",
       "    </tr>\n",
       "    <tr>\n",
       "      <td>4</td>\n",
       "      <td>5</td>\n",
       "      <td>3</td>\n",
       "      <td>5</td>\n",
       "    </tr>\n",
       "    <tr>\n",
       "      <td>5</td>\n",
       "      <td>6</td>\n",
       "      <td>5</td>\n",
       "      <td>9</td>\n",
       "    </tr>\n",
       "    <tr>\n",
       "      <td>6</td>\n",
       "      <td>7</td>\n",
       "      <td>9</td>\n",
       "      <td>8</td>\n",
       "    </tr>\n",
       "    <tr>\n",
       "      <td>7</td>\n",
       "      <td>8</td>\n",
       "      <td>8</td>\n",
       "      <td>10</td>\n",
       "    </tr>\n",
       "    <tr>\n",
       "      <td>8</td>\n",
       "      <td>9</td>\n",
       "      <td>10</td>\n",
       "      <td>1</td>\n",
       "    </tr>\n",
       "    <tr>\n",
       "      <td>9</td>\n",
       "      <td>10</td>\n",
       "      <td>1</td>\n",
       "      <td>4</td>\n",
       "    </tr>\n",
       "    <tr>\n",
       "      <td>10</td>\n",
       "      <td>11</td>\n",
       "      <td>4</td>\n",
       "      <td>0</td>\n",
       "    </tr>\n",
       "  </tbody>\n",
       "</table>\n",
       "</div>"
      ],
      "text/plain": [
       "    Position  From  To\n",
       "0          1     0   6\n",
       "1          2     6   7\n",
       "2          3     7   2\n",
       "3          4     2   3\n",
       "4          5     3   5\n",
       "5          6     5   9\n",
       "6          7     9   8\n",
       "7          8     8  10\n",
       "8          9    10   1\n",
       "9         10     1   4\n",
       "10        11     4   0"
      ]
     },
     "execution_count": 12,
     "metadata": {},
     "output_type": "execute_result"
    }
   ],
   "source": [
    "Position = []\n",
    "From = []\n",
    "To = []\n",
    "\n",
    "for i in range(N):\n",
    "    Position.append(int(pos[i].solution_value() + 1))\n",
    "    for j in range(N):\n",
    "        if use_arc[i][j].solution_value() == 1:\n",
    "            From.append(i)\n",
    "            To.append(j)\n",
    "solution = pd.DataFrame(list(zip(Position, From, To)), columns = ['Position', 'From', 'To'])\n",
    "solution = solution.sort_values('Position').reset_index(drop=True)\n",
    "solution"
   ]
  },
  {
   "cell_type": "markdown",
   "metadata": {},
   "source": [
    "## Plot the Solution"
   ]
  },
  {
   "cell_type": "code",
   "execution_count": 13,
   "metadata": {},
   "outputs": [],
   "source": [
    "import matplotlib.pyplot as plt\n",
    "import networkx as nx\n",
    "import numpy as np"
   ]
  },
  {
   "cell_type": "code",
   "execution_count": 14,
   "metadata": {},
   "outputs": [],
   "source": [
    "# import csv x, y coord matrix as list\n",
    "with open('XYcoord.csv', newline='') as f:\n",
    "    reader = csv.reader(f)\n",
    "    coord = list(reader)\n",
    "\n",
    "# remove blanks & converting to integers\n",
    "for i in range(len(coord)):\n",
    "    coord[i] = [int(item) for item in coord[i] if item]\n",
    "coord = [item for item in coord if item]\n"
   ]
  },
  {
   "cell_type": "code",
   "execution_count": 15,
   "metadata": {},
   "outputs": [],
   "source": [
    "# Define function to convert list of coordinates to dictionary\n",
    "def to_dict(my_list):\n",
    "    dict = {}\n",
    "    for items in range(len(my_list)):\n",
    "        dict[items] = my_list[items]\n",
    "    return dict"
   ]
  },
  {
   "cell_type": "code",
   "execution_count": 16,
   "metadata": {},
   "outputs": [],
   "source": [
    "coord = to_dict(coord)"
   ]
  },
  {
   "cell_type": "code",
   "execution_count": 17,
   "metadata": {},
   "outputs": [],
   "source": [
    "# Define edge list\n",
    "edge_list = []\n",
    "for i in range(len(solution)):\n",
    "    edge_list.append([solution['From'][i], solution['To'][i]])"
   ]
  },
  {
   "cell_type": "code",
   "execution_count": 18,
   "metadata": {},
   "outputs": [],
   "source": [
    "# Initialize graph object\n",
    "G = nx.Graph()"
   ]
  },
  {
   "cell_type": "code",
   "execution_count": 19,
   "metadata": {},
   "outputs": [
    {
     "name": "stderr",
     "output_type": "stream",
     "text": [
      "C:\\Users\\camco\\Anaconda3\\lib\\site-packages\\networkx\\drawing\\nx_pylab.py:579: MatplotlibDeprecationWarning: \n",
      "The iterable function was deprecated in Matplotlib 3.1 and will be removed in 3.3. Use np.iterable instead.\n",
      "  if not cb.iterable(width):\n"
     ]
    },
    {
     "data": {
      "image/png": "[encoded data removed]",
      "text/plain": [
       "<Figure size 720x720 with 1 Axes>"
      ]
     },
     "metadata": {},
     "output_type": "display_data"
    }
   ],
   "source": [
    "for (u,v) in edge_list:\n",
    "    G.add_edge(v, u, capacity=1) \n",
    "       \n",
    "fig, ax = plt.subplots(figsize=(10,10))\n",
    "nx.draw(G, coord, edgelist=edge_list, edge_labels=True, with_labels=True, font_color='w', node_color='darkblue', ax=ax)\n",
    "#nx.draw_networkx_edges(G, coord, edgelist=droneedgelist, edge_color='darkorange', style='dotted', ax=ax)\n",
    "limits=plt.axis('on')\n",
    "ax.tick_params(left=True, bottom=True, labelleft=True, labelbottom=True)\n",
    "string = 'Traveling Salesman Solution (' + str(N-1) + ' nodes)'\n",
    "ax.set_title(string)\n",
    "plt.show();\n",
    "#plt.savefig(\"route-sim1-k1.png\")"
   ]
  }
 ],
 "metadata": {
  "kernelspec": {
   "display_name": "Python 3",
   "language": "python",
   "name": "python3"
  },
  "language_info": {
   "codemirror_mode": {
    "name": "ipython",
    "version": 3
   },
   "file_extension": ".py",
   "mimetype": "text/x-python",
   "name": "python",
   "nbconvert_exporter": "python",
   "pygments_lexer": "ipython3",
   "version": "3.7.4"
  }
 },
 "nbformat": 4,
 "nbformat_minor": 4
}
