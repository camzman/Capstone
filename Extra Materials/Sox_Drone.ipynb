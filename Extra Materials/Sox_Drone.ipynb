{
 "cells": [
  {
   "cell_type": "markdown",
   "metadata": {},
   "source": [
    "# Drone Routing Optimization Problem"
   ]
  },
  {
   "cell_type": "markdown",
   "metadata": {},
   "source": [
    "## Model Initialization"
   ]
  },
  {
   "cell_type": "code",
   "execution_count": 1,
   "metadata": {},
   "outputs": [],
   "source": [
    "# import Glop linear solver package\n",
    "from ortools.linear_solver import pywraplp as glp\n",
    "import csv\n",
    "import numpy as np\n",
    "#import pandas as pd\n",
    "#import time\n",
    "#from datetime import date\n",
    "\n",
    "# initialize model object\n",
    "drone_model = glp.Solver('Drone Routing Problem 2', glp.Solver.CBC_MIXED_INTEGER_PROGRAMMING)"
   ]
  },
  {
   "cell_type": "markdown",
   "metadata": {},
   "source": [
    "## Parameters"
   ]
  },
  {
   "cell_type": "markdown",
   "metadata": {},
   "source": [
    "### Import distance matrix"
   ]
  },
  {
   "cell_type": "code",
   "execution_count": 2,
   "metadata": {},
   "outputs": [],
   "source": [
    "# import csv distance matrix as list\n",
    "with open('Orders_Data.csv', newline='') as f:\n",
    "    reader = csv.reader(f)\n",
    "    distance = list(reader)\n",
    "\n",
    "# remove blanks\n",
    "for i in range(len(distance)):\n",
    "    distance[i] = [item for item in distance[i] if item]\n",
    "distance = [item for item in distance if item]\n",
    "distance = np.array(distance, dtype = 'float')\n",
    "\n",
    "# Cost per unit of distance\n",
    "truck_cost_per_dist = 10.0\n",
    "drone_cost_per_dist = 3.0\n",
    "\n",
    "# Create cost matrices for truck & drone\n",
    "truck_cost = distance * truck_cost_per_dist\n",
    "drone_cost = distance * drone_cost_per_dist\n",
    "truck_cost = truck_cost.tolist()\n",
    "drone_cost = drone_cost.tolist()"
   ]
  },
  {
   "cell_type": "code",
   "execution_count": 3,
   "metadata": {},
   "outputs": [
    {
     "data": {
      "text/plain": [
       "[[0.0, 100.0, 81.0, 99.0, 61.0, 111.0],\n",
       " [100.0, 0.0, 97.0, 98.0, 41.0, 93.0],\n",
       " [81.0, 97.0, 0.0, 19.0, 66.0, 36.0],\n",
       " [99.0, 98.0, 19.0, 0.0, 74.0, 18.0],\n",
       " [61.0, 41.0, 66.0, 74.0, 0.0, 77.0],\n",
       " [111.0, 93.0, 36.0, 18.0, 77.0, 0.0]]"
      ]
     },
     "execution_count": 3,
     "metadata": {},
     "output_type": "execute_result"
    }
   ],
   "source": [
    "distance.tolist()"
   ]
  },
  {
   "cell_type": "markdown",
   "metadata": {},
   "source": [
    "### Initialize Model Parameters"
   ]
  },
  {
   "cell_type": "code",
   "execution_count": 4,
   "metadata": {},
   "outputs": [],
   "source": [
    "# model parameters\n",
    "R = list(range(1, len(distance))) # Nodes excluding origin & final 'dummy' node (1 to 10 index)\n",
    "N = list(range(len(distance))) # All nodes (0 to 11 index)\n",
    "M = len(distance) + 100 # Large number\n",
    "D = list(range(3)) # Drones onboard the truck (0 to 2 index)"
   ]
  },
  {
   "cell_type": "code",
   "execution_count": 5,
   "metadata": {},
   "outputs": [
    {
     "data": {
      "text/plain": [
       "[1, 2, 3, 4, 5]"
      ]
     },
     "execution_count": 5,
     "metadata": {},
     "output_type": "execute_result"
    }
   ],
   "source": [
    "R"
   ]
  },
  {
   "cell_type": "code",
   "execution_count": 6,
   "metadata": {},
   "outputs": [
    {
     "data": {
      "text/plain": [
       "[0, 1, 2, 3, 4, 5]"
      ]
     },
     "execution_count": 6,
     "metadata": {},
     "output_type": "execute_result"
    }
   ],
   "source": [
    "N"
   ]
  },
  {
   "cell_type": "markdown",
   "metadata": {},
   "source": [
    "## Decision Variables"
   ]
  },
  {
   "cell_type": "code",
   "execution_count": 7,
   "metadata": {},
   "outputs": [
    {
     "data": {
      "text/plain": [
       "[[0.0, 0.1, 0.2, 0.3, 0.4, 0.5],\n",
       " [1.0, 0.0, 1.2, 1.3, 1.4, 1.5],\n",
       " [2.0, 2.1, 0.0, 2.3, 2.4, 2.5],\n",
       " [3.0, 3.1, 3.2, 0.0, 3.4, 3.5],\n",
       " [4.0, 4.1, 4.2, 4.3, 0.0, 4.5],\n",
       " [5.0, 5.1, 5.2, 5.3, 5.4, 0.0]]"
      ]
     },
     "execution_count": 7,
     "metadata": {},
     "output_type": "execute_result"
    }
   ],
   "source": [
    "# Truck path from node i to j\n",
    "dimensions = (int(len(N)), int(len(N))) # Create truck arc dimensions - 11 x 11 (10 x 10 index)\n",
    "truck_arc = np.zeros(dimensions).tolist() # create nested list\n",
    "for i in N:\n",
    "    for j in N:\n",
    "        if i !=j:\n",
    "            truck_arc[i][j] = drone_model.IntVar(0, 1, str(i) + \".\" + str(j)) #create binary variable for each possible truck path\n",
    "truck_arc"
   ]
  },
  {
   "cell_type": "code",
   "execution_count": 8,
   "metadata": {},
   "outputs": [
    {
     "data": {
      "text/plain": [
       "[[0.0, 0.0, 0.0, 0.0, 0.0, 0.0],\n",
       " [0.0, 0.0, 1.2, 1.3, 1.4, 1.5],\n",
       " [0.0, 2.1, 0.0, 2.3, 2.4, 2.5],\n",
       " [0.0, 3.1, 3.2, 0.0, 3.4, 3.5],\n",
       " [0.0, 4.1, 4.2, 4.3, 0.0, 4.5],\n",
       " [0.0, 5.1, 5.2, 5.3, 5.4, 0.0]]"
      ]
     },
     "execution_count": 8,
     "metadata": {},
     "output_type": "execute_result"
    }
   ],
   "source": [
    "# The kth drone path from node i to j\n",
    "dimensions = (int(len(N)), int(len(N))) # Create drone arc dimensions - 12 x 12 x 3 (index 11 x 11 x 2)\n",
    "drone_arc = np.zeros(dimensions).tolist() # create nested list\n",
    "\n",
    "for i in R:\n",
    "    for j in R:\n",
    "        if i != j:\n",
    "            drone_arc[i][j] = drone_model.IntVar(0, 1, str(i) + \".\" + str(j)) #create binary variable for each possible drone path\n",
    "\n",
    "        #for k in D: [k]  + \".\" + str(k) , int(len(D))\n",
    "        \n",
    "# All drone paths from node 2 (index 1)\n",
    "drone_arc"
   ]
  },
  {
   "cell_type": "code",
   "execution_count": 9,
   "metadata": {},
   "outputs": [
    {
     "data": {
      "text/plain": [
       "[p.0, p.1, p.2, p.3, p.4, p.5]"
      ]
     },
     "execution_count": 9,
     "metadata": {},
     "output_type": "execute_result"
    }
   ],
   "source": [
    "# create position variable (lambda / u)\n",
    "pos = list(N)\n",
    "for i in N:\n",
    "    pos[i] = drone_model.IntVar(0, len(N), \"p.\" + str(i))\n",
    "pos"
   ]
  },
  {
   "cell_type": "code",
   "execution_count": 10,
   "metadata": {},
   "outputs": [
    {
     "data": {
      "text/plain": [
       "6"
      ]
     },
     "execution_count": 10,
     "metadata": {},
     "output_type": "execute_result"
    }
   ],
   "source": [
    "len(N)"
   ]
  },
  {
   "cell_type": "markdown",
   "metadata": {},
   "source": [
    "## Objective"
   ]
  },
  {
   "cell_type": "code",
   "execution_count": 11,
   "metadata": {},
   "outputs": [
    {
     "name": "stdout",
     "output_type": "stream",
     "text": [
      "0.1\n",
      "0.2\n",
      "0.3\n",
      "0.4\n",
      "0.5\n",
      "1.0\n",
      "1.2\n",
      "1.3\n",
      "1.4\n",
      "1.5\n",
      "2.0\n",
      "2.1\n",
      "2.3\n",
      "2.4\n",
      "2.5\n",
      "3.0\n",
      "3.1\n",
      "3.2\n",
      "3.4\n",
      "3.5\n",
      "4.0\n",
      "4.1\n",
      "4.2\n",
      "4.3\n",
      "4.5\n",
      "5.0\n",
      "5.1\n",
      "5.2\n",
      "5.3\n",
      "5.4\n"
     ]
    }
   ],
   "source": [
    "# create objective function\n",
    "optimal_route = drone_model.Objective()\n",
    "optimal_route.SetMinimization() # Minimize cost\n",
    "\n",
    "for i in N:\n",
    "    for j in N:\n",
    "        if i != j: \n",
    "            optimal_route.SetCoefficient(truck_arc[i][j], truck_cost[i][j]) # Truck cost per arc\n",
    "            print(str(i) + '.' + str(j))"
   ]
  },
  {
   "cell_type": "code",
   "execution_count": 12,
   "metadata": {},
   "outputs": [
    {
     "name": "stdout",
     "output_type": "stream",
     "text": [
      "1.2\n",
      "1.3\n",
      "1.4\n",
      "1.5\n",
      "2.1\n",
      "2.3\n",
      "2.4\n",
      "2.5\n",
      "3.1\n",
      "3.2\n",
      "3.4\n",
      "3.5\n",
      "4.1\n",
      "4.2\n",
      "4.3\n",
      "4.5\n",
      "5.1\n",
      "5.2\n",
      "5.3\n",
      "5.4\n"
     ]
    }
   ],
   "source": [
    "for i in R:\n",
    "    for j in R:\n",
    "        if i != j: \n",
    "            optimal_route.SetCoefficient(drone_arc[i][j], drone_cost[i][j]) # Drone cost per arc\n",
    "            print(str(i) + '.' + str(j))"
   ]
  },
  {
   "cell_type": "markdown",
   "metadata": {},
   "source": [
    "## Constraints"
   ]
  },
  {
   "cell_type": "code",
   "execution_count": 13,
   "metadata": {},
   "outputs": [
    {
     "name": "stdout",
     "output_type": "stream",
     "text": [
      "1\n",
      "2\n",
      "3\n",
      "4\n",
      "5\n"
     ]
    }
   ],
   "source": [
    "first_arc = drone_model.Constraint(1, 1)\n",
    "for j in R:\n",
    "    first_arc.SetCoefficient(truck_arc[0][j], 1)\n",
    "    print(str(j))"
   ]
  },
  {
   "cell_type": "code",
   "execution_count": 14,
   "metadata": {},
   "outputs": [
    {
     "name": "stdout",
     "output_type": "stream",
     "text": [
      "1\n",
      "2\n",
      "3\n",
      "4\n",
      "5\n"
     ]
    }
   ],
   "source": [
    "last_arc = drone_model.Constraint(1, 1)\n",
    "for i in R:\n",
    "    last_arc.SetCoefficient(truck_arc[i][0], 1)\n",
    "    print(str(i))"
   ]
  },
  {
   "cell_type": "code",
   "execution_count": 15,
   "metadata": {},
   "outputs": [
    {
     "name": "stdout",
     "output_type": "stream",
     "text": [
      "1.0\n",
      "2.0\n",
      "3.0\n",
      "4.0\n",
      "5.0\n",
      "0.1\n",
      "2.1\n",
      "3.1\n",
      "4.1\n",
      "5.1\n",
      "0.2\n",
      "1.2\n",
      "3.2\n",
      "4.2\n",
      "5.2\n",
      "0.3\n",
      "1.3\n",
      "2.3\n",
      "4.3\n",
      "5.3\n",
      "0.4\n",
      "1.4\n",
      "2.4\n",
      "3.4\n",
      "5.4\n",
      "0.5\n",
      "1.5\n",
      "2.5\n",
      "3.5\n",
      "4.5\n"
     ]
    }
   ],
   "source": [
    "bal = list(N)\n",
    "for j in N:\n",
    "    bal[j] = drone_model.Constraint(0, 0)\n",
    "    for i in N:\n",
    "        if i != j:\n",
    "            bal[j].SetCoefficient(truck_arc[i][j], 1)\n",
    "            bal[j].SetCoefficient(truck_arc[j][i], -1)\n",
    "            print(str(i) + '.' + str(j))"
   ]
  },
  {
   "cell_type": "code",
   "execution_count": 17,
   "metadata": {},
   "outputs": [
    {
     "name": "stdout",
     "output_type": "stream",
     "text": [
      "drone: 1.2 truck: 0.1\n",
      "drone: 1.2 truck: 2.1\n",
      "drone: 1.2 truck: 3.1\n",
      "drone: 1.2 truck: 4.1\n",
      "drone: 1.2 truck: 5.1\n",
      "\n",
      "drone: 1.3 truck: 0.1\n",
      "drone: 1.3 truck: 2.1\n",
      "drone: 1.3 truck: 3.1\n",
      "drone: 1.3 truck: 4.1\n",
      "drone: 1.3 truck: 5.1\n",
      "\n",
      "drone: 1.4 truck: 0.1\n",
      "drone: 1.4 truck: 2.1\n",
      "drone: 1.4 truck: 3.1\n",
      "drone: 1.4 truck: 4.1\n",
      "drone: 1.4 truck: 5.1\n",
      "\n",
      "drone: 1.5 truck: 0.1\n",
      "drone: 1.5 truck: 2.1\n",
      "drone: 1.5 truck: 3.1\n",
      "drone: 1.5 truck: 4.1\n",
      "drone: 1.5 truck: 5.1\n",
      "\n",
      "drone: 2.1 truck: 0.2\n",
      "drone: 2.1 truck: 1.2\n",
      "drone: 2.1 truck: 3.2\n",
      "drone: 2.1 truck: 4.2\n",
      "drone: 2.1 truck: 5.2\n",
      "\n",
      "drone: 2.3 truck: 0.2\n",
      "drone: 2.3 truck: 1.2\n",
      "drone: 2.3 truck: 3.2\n",
      "drone: 2.3 truck: 4.2\n",
      "drone: 2.3 truck: 5.2\n",
      "\n",
      "drone: 2.4 truck: 0.2\n",
      "drone: 2.4 truck: 1.2\n",
      "drone: 2.4 truck: 3.2\n",
      "drone: 2.4 truck: 4.2\n",
      "drone: 2.4 truck: 5.2\n",
      "\n",
      "drone: 2.5 truck: 0.2\n",
      "drone: 2.5 truck: 1.2\n",
      "drone: 2.5 truck: 3.2\n",
      "drone: 2.5 truck: 4.2\n",
      "drone: 2.5 truck: 5.2\n",
      "\n",
      "drone: 3.1 truck: 0.3\n",
      "drone: 3.1 truck: 1.3\n",
      "drone: 3.1 truck: 2.3\n",
      "drone: 3.1 truck: 4.3\n",
      "drone: 3.1 truck: 5.3\n",
      "\n",
      "drone: 3.2 truck: 0.3\n",
      "drone: 3.2 truck: 1.3\n",
      "drone: 3.2 truck: 2.3\n",
      "drone: 3.2 truck: 4.3\n",
      "drone: 3.2 truck: 5.3\n",
      "\n",
      "drone: 3.4 truck: 0.3\n",
      "drone: 3.4 truck: 1.3\n",
      "drone: 3.4 truck: 2.3\n",
      "drone: 3.4 truck: 4.3\n",
      "drone: 3.4 truck: 5.3\n",
      "\n",
      "drone: 3.5 truck: 0.3\n",
      "drone: 3.5 truck: 1.3\n",
      "drone: 3.5 truck: 2.3\n",
      "drone: 3.5 truck: 4.3\n",
      "drone: 3.5 truck: 5.3\n",
      "\n",
      "drone: 4.1 truck: 0.4\n",
      "drone: 4.1 truck: 1.4\n",
      "drone: 4.1 truck: 2.4\n",
      "drone: 4.1 truck: 3.4\n",
      "drone: 4.1 truck: 5.4\n",
      "\n",
      "drone: 4.2 truck: 0.4\n",
      "drone: 4.2 truck: 1.4\n",
      "drone: 4.2 truck: 2.4\n",
      "drone: 4.2 truck: 3.4\n",
      "drone: 4.2 truck: 5.4\n",
      "\n",
      "drone: 4.3 truck: 0.4\n",
      "drone: 4.3 truck: 1.4\n",
      "drone: 4.3 truck: 2.4\n",
      "drone: 4.3 truck: 3.4\n",
      "drone: 4.3 truck: 5.4\n",
      "\n",
      "drone: 4.5 truck: 0.4\n",
      "drone: 4.5 truck: 1.4\n",
      "drone: 4.5 truck: 2.4\n",
      "drone: 4.5 truck: 3.4\n",
      "drone: 4.5 truck: 5.4\n",
      "\n",
      "drone: 5.1 truck: 0.5\n",
      "drone: 5.1 truck: 1.5\n",
      "drone: 5.1 truck: 2.5\n",
      "drone: 5.1 truck: 3.5\n",
      "drone: 5.1 truck: 4.5\n",
      "\n",
      "drone: 5.2 truck: 0.5\n",
      "drone: 5.2 truck: 1.5\n",
      "drone: 5.2 truck: 2.5\n",
      "drone: 5.2 truck: 3.5\n",
      "drone: 5.2 truck: 4.5\n",
      "\n",
      "drone: 5.3 truck: 0.5\n",
      "drone: 5.3 truck: 1.5\n",
      "drone: 5.3 truck: 2.5\n",
      "drone: 5.3 truck: 3.5\n",
      "drone: 5.3 truck: 4.5\n",
      "\n",
      "drone: 5.4 truck: 0.5\n",
      "drone: 5.4 truck: 1.5\n",
      "drone: 5.4 truck: 2.5\n",
      "drone: 5.4 truck: 3.5\n",
      "drone: 5.4 truck: 4.5\n",
      "\n"
     ]
    }
   ],
   "source": [
    "num_constr = []\n",
    "dimensions = (int(len(N)), int(len(N))) \n",
    "launch = np.zeros(dimensions).tolist()\n",
    "for i in R:\n",
    "    for j in R:\n",
    "        if i != j:\n",
    "            launch[i][j] = drone_model.Constraint(-drone_model.infinity(), 0)\n",
    "            launch[i][j].SetCoefficient(drone_arc[i][j], 1)\n",
    "            num_constr.append(str(i) + '.' + str(j))\n",
    "            for k in N:\n",
    "                if k != i:\n",
    "                    launch[i][j].SetCoefficient(truck_arc[k][i], -1)\n",
    "                    print('drone: ', str(i), '.', str(j), ' truck: ', str(k), '.', str(i), sep = '')\n",
    "            print('')"
   ]
  },
  {
   "cell_type": "code",
   "execution_count": 18,
   "metadata": {},
   "outputs": [
    {
     "name": "stdout",
     "output_type": "stream",
     "text": [
      "truck: 0.1\n",
      "truck: 2.1\n",
      "truck: 3.1\n",
      "truck: 4.1\n",
      "truck: 5.1\n",
      "\n",
      "drone: 2.1\n",
      "drone: 3.1\n",
      "drone: 4.1\n",
      "drone: 5.1\n",
      "\n",
      "truck: 0.2\n",
      "truck: 1.2\n",
      "truck: 3.2\n",
      "truck: 4.2\n",
      "truck: 5.2\n",
      "\n",
      "drone: 1.2\n",
      "drone: 3.2\n",
      "drone: 4.2\n",
      "drone: 5.2\n",
      "\n",
      "truck: 0.3\n",
      "truck: 1.3\n",
      "truck: 2.3\n",
      "truck: 4.3\n",
      "truck: 5.3\n",
      "\n",
      "drone: 1.3\n",
      "drone: 2.3\n",
      "drone: 4.3\n",
      "drone: 5.3\n",
      "\n",
      "truck: 0.4\n",
      "truck: 1.4\n",
      "truck: 2.4\n",
      "truck: 3.4\n",
      "truck: 5.4\n",
      "\n",
      "drone: 1.4\n",
      "drone: 2.4\n",
      "drone: 3.4\n",
      "drone: 5.4\n",
      "\n",
      "truck: 0.5\n",
      "truck: 1.5\n",
      "truck: 2.5\n",
      "truck: 3.5\n",
      "truck: 4.5\n",
      "\n",
      "drone: 1.5\n",
      "drone: 2.5\n",
      "drone: 3.5\n",
      "drone: 4.5\n",
      "\n"
     ]
    }
   ],
   "source": [
    "coverage = list(N)\n",
    "for j in R:\n",
    "    coverage[j] = drone_model.Constraint(1, 1)\n",
    "    for i in N:\n",
    "        if i != j:\n",
    "            coverage[j].SetCoefficient(truck_arc[i][j], 1)\n",
    "            print('truck: ', str(i), '.', str(j), sep = '')\n",
    "    print('')\n",
    "    for i in R:\n",
    "        if i != j:\n",
    "            coverage[j].SetCoefficient(drone_arc[i][j], 1)\n",
    "            print('drone: ', str(i), '.', str(j), sep = '')\n",
    "    print('')"
   ]
  },
  {
   "cell_type": "code",
   "execution_count": 19,
   "metadata": {},
   "outputs": [
    {
     "name": "stdout",
     "output_type": "stream",
     "text": [
      "pos1 - pos2 + 5 * (truck 1.2) <= 4\n",
      "pos1 - pos3 + 5 * (truck 1.3) <= 4\n",
      "pos1 - pos4 + 5 * (truck 1.4) <= 4\n",
      "pos1 - pos5 + 5 * (truck 1.5) <= 4\n",
      "pos2 - pos1 + 5 * (truck 2.1) <= 4\n",
      "pos2 - pos3 + 5 * (truck 2.3) <= 4\n",
      "pos2 - pos4 + 5 * (truck 2.4) <= 4\n",
      "pos2 - pos5 + 5 * (truck 2.5) <= 4\n",
      "pos3 - pos1 + 5 * (truck 3.1) <= 4\n",
      "pos3 - pos2 + 5 * (truck 3.2) <= 4\n",
      "pos3 - pos4 + 5 * (truck 3.4) <= 4\n",
      "pos3 - pos5 + 5 * (truck 3.5) <= 4\n",
      "pos4 - pos1 + 5 * (truck 4.1) <= 4\n",
      "pos4 - pos2 + 5 * (truck 4.2) <= 4\n",
      "pos4 - pos3 + 5 * (truck 4.3) <= 4\n",
      "pos4 - pos5 + 5 * (truck 4.5) <= 4\n",
      "pos5 - pos1 + 5 * (truck 5.1) <= 4\n",
      "pos5 - pos2 + 5 * (truck 5.2) <= 4\n",
      "pos5 - pos3 + 5 * (truck 5.3) <= 4\n",
      "pos5 - pos4 + 5 * (truck 5.4) <= 4\n"
     ]
    }
   ],
   "source": [
    "dimensions = (int(len(N)), int(len(N))) # Create MTZ constraint dimensions\n",
    "MTZ = np.zeros(dimensions).tolist() # create nested list\n",
    "\n",
    "for i in R:\n",
    "    for j in R:\n",
    "        if i !=j:\n",
    "            MTZ[i][j] = drone_model.Constraint(-drone_model.infinity(), len(N)-2)\n",
    "            MTZ[i][j].SetCoefficient(truck_arc[i][j], len(N)-1)\n",
    "            MTZ[i][j].SetCoefficient(pos[i], 1)\n",
    "            MTZ[i][j].SetCoefficient(pos[j], -1)\n",
    "            print('pos', i, ' - ', 'pos', j, ' + ', len(N)-1,' * ', '(truck ', i,'.' ,j, ') <= ',  len(N)-2, sep = '')"
   ]
  },
  {
   "cell_type": "code",
   "execution_count": 20,
   "metadata": {},
   "outputs": [],
   "source": [
    "position = drone_model.Constraint(0, 0)\n",
    "position.SetCoefficient(pos[0], 1)"
   ]
  },
  {
   "cell_type": "code",
   "execution_count": null,
   "metadata": {},
   "outputs": [],
   "source": [
    "# Solve the model and print optimal solution\n",
    "#start_time = time.time()\n",
    "status = drone_model.Solve()                 # solve drone_model and display the solution\n",
    "\n",
    "print('Solution Status =', status)\n",
    "print('Number of variables =', drone_model.NumVariables())\n",
    "print('Number of constraints =', drone_model.NumConstraints())\n",
    "\n",
    "print('Optimal Solution:')\n",
    "\n",
    "# The objective value of the solution.\n",
    "#print('Optimal Value = %.2f' % optimal_route.Value())\n",
    "\n",
    "#print(\"Solution Time: %.2f seconds\" % (time.time() - start_time))\n",
    "#runtime = round(time.time() - start_time)\n",
    "#today = str(date.today())\n",
    "\n",
    "# Display optimal solution\n",
    "#for i in N:\n",
    "#    print('pos[%d] = %d' % (i, pos[i].solution_value()))\n",
    "#    for j in N:\n",
    "#        if truck_arc[i][j].solution_value() == 1:\n",
    "#            print('Truck ', i, ' to ', j, ': ', truck_arc[i][j].solution_value(), sep = '')\n",
    "#for i in R:\n",
    "#    for j in R:\n",
    "#        if drone_arc[i][j].solution_value() == 1:\n",
    "#                print('Drone from ', i, ' to ', j, ': ', drone_arc[i][j].solution_value(), sep = '')\n",
    "        #for k in D:"
   ]
  },
  {
   "cell_type": "code",
   "execution_count": null,
   "metadata": {},
   "outputs": [],
   "source": [
    "import gc\n",
    "gc.collect()"
   ]
  },
  {
   "cell_type": "code",
   "execution_count": null,
   "metadata": {},
   "outputs": [],
   "source": []
  }
 ],
 "metadata": {
  "kernelspec": {
   "display_name": "Python 3",
   "language": "python",
   "name": "python3"
  },
  "language_info": {
   "codemirror_mode": {
    "name": "ipython",
    "version": 3
   },
   "file_extension": ".py",
   "mimetype": "text/x-python",
   "name": "python",
   "nbconvert_exporter": "python",
   "pygments_lexer": "ipython3",
   "version": "3.7.4"
  }
 },
 "nbformat": 4,
 "nbformat_minor": 4
}
