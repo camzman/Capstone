{
 "cells": [
  {
   "cell_type": "markdown",
   "metadata": {},
   "source": [
    "## Glop Optimization with Lists: Sidneyville Manufacturing"
   ]
  },
  {
   "cell_type": "code",
   "execution_count": 1,
   "metadata": {},
   "outputs": [],
   "source": [
    "# import Glop package\n",
    "from ortools.linear_solver import pywraplp as glp"
   ]
  },
  {
   "cell_type": "code",
   "execution_count": 2,
   "metadata": {},
   "outputs": [],
   "source": [
    "# initialize LP model object\n",
    "mymodel = glp.Solver('Sidneyville', glp.Solver.GLOP_LINEAR_PROGRAMMING)"
   ]
  },
  {
   "cell_type": "code",
   "execution_count": 3,
   "metadata": {},
   "outputs": [],
   "source": [
    "# input parameters\n",
    "product = ['Roll_Top', 'Regular']\n",
    "wood = ['Pine', 'Cedar', 'Maple']\n",
    "profit = [115.00, 90.00]\n",
    "wood_req = [[10, 4, 15], [20, 16, 10]]    # each sublist corresponds to a product\n",
    "wood_rhs = [200, 128, 220]"
   ]
  },
  {
   "cell_type": "code",
   "execution_count": 4,
   "metadata": {},
   "outputs": [],
   "source": [
    "# define decision variables\n",
    "dvar = list(range(len(product)))\n",
    "for i in range(len(product)):\n",
    "    dvar[i] = mymodel.NumVar(0, mymodel.infinity(), product[i])\n",
    "    \n",
    "xtra_var = mymodel.NumVar(0, 0, 'Special')"
   ]
  },
  {
   "cell_type": "code",
   "execution_count": 5,
   "metadata": {},
   "outputs": [],
   "source": [
    "# define objective function\n",
    "TotProfit = mymodel.Objective()\n",
    "TotProfit.SetMaximization()\n",
    "for i in range(len(product)):\n",
    "    TotProfit.SetCoefficient(dvar[i], profit[i])"
   ]
  },
  {
   "cell_type": "code",
   "execution_count": 6,
   "metadata": {},
   "outputs": [],
   "source": [
    "# define constraints\n",
    "constr = list(range(len(wood)))\n",
    "for w in range(len(wood)):\n",
    "    constr[w] = mymodel.Constraint(-mymodel.infinity(), wood_rhs[w], wood[w])\n",
    "    for p in range(len(product)):\n",
    "        constr[w].SetCoefficient(dvar[p], wood_req[p][w])"
   ]
  },
  {
   "cell_type": "code",
   "execution_count": 12,
   "metadata": {},
   "outputs": [
    {
     "name": "stdout",
     "output_type": "stream",
     "text": [
      "Variables:\n",
      "Roll_Top, Regular, Special \n",
      "\n",
      "maximize: 115.0*Roll_Top + 90.0*Regular \n",
      "\n",
      "Subject To:\n",
      "Pine: 10.0*Roll_Top + 20.0*Regular <= 200.0\n",
      "Cedar: 4.0*Roll_Top + 16.0*Regular <= 128.0\n",
      "Maple: 15.0*Roll_Top + 10.0*Regular <= 220.0\n",
      "\n",
      "Bounds:\n",
      "Roll_Top >= 0.0\n",
      "Regular >= 0.0\n",
      "0.0 <= Special <= 0.0\n"
     ]
    }
   ],
   "source": [
    "# Print Algebraic Model\n",
    "\n",
    "infinity = mymodel.infinity()\n",
    "\n",
    "# Variables\n",
    "var_lst = mymodel.variables()\n",
    "var_str = ''\n",
    "first_var = True\n",
    "for var in var_lst:\n",
    "    if first_var:\n",
    "        var_str = var_str + str(var)\n",
    "        first_var = False\n",
    "    else:\n",
    "        var_str = var_str + ', ' + str(var) \n",
    "print('Variables:')\n",
    "print(var_str, '\\n')\n",
    "\n",
    "# Objective\n",
    "if mymodel.Objective().maximization():\n",
    "    obj_str = 'maximize: '\n",
    "elif mymodel.Objective().minimization():\n",
    "    obj_str = 'minimize: '\n",
    "else:\n",
    "    obj_str = 'undefined: '\n",
    "    \n",
    "first_var = True\n",
    "for var in var_lst:\n",
    "    coeff = mymodel.Objective().GetCoefficient(var)\n",
    "    if coeff < 0:\n",
    "        obj_str = obj_str + '- ' + str(coeff) + '*' + str(var) + ' '\n",
    "        if first_var: first_var = False\n",
    "    if first_var and coeff > 0:\n",
    "        obj_str = obj_str + str(coeff) + '*' + str(var) + ' '\n",
    "        first_var = False\n",
    "    elif coeff > 0:\n",
    "        obj_str = obj_str + '+ ' + str(coeff) + '*' + str(var) + ' '\n",
    "print(obj_str + '\\n')\n",
    "\n",
    "# Constraints\n",
    "print('Subject To:')\n",
    "constr_lst = mymodel.constraints()\n",
    "for constr in constr_lst:\n",
    "    constr_str = constr.name() + ': '\n",
    "    first_var = True\n",
    "    for var in var_lst:\n",
    "        coeff = constr.GetCoefficient(var)\n",
    "        if coeff < 0:\n",
    "            constr_str = constr_str + '- ' + str(coeff) + '*' + str(var) + ' '\n",
    "            if first_var: first_var = False\n",
    "        elif first_var and coeff > 0:\n",
    "            constr_str = constr_str + str(coeff) + '*' + str(var) + ' '\n",
    "            first_var = False\n",
    "        elif coeff > 0:\n",
    "            constr_str = constr_str + '+ ' + str(coeff) + '*' + str(var) + ' '\n",
    "    lower = constr.lb()\n",
    "    upper = constr.ub()\n",
    "    if lower == upper:\n",
    "        print(constr_str + '= ' + str(lower))\n",
    "    elif lower > -infinity and upper == infinity:\n",
    "        print(constr_str + '>= ' + str(lower))\n",
    "    elif lower == -infinity and upper < infinity:\n",
    "        print(constr_str + '<= ' + str(upper))\n",
    "    elif lower > -infinity and upper < infinity:\n",
    "        print(constr_str + '>= ' + str(lower))\n",
    "        print(constr_str + '<= ' + str(upper))\n",
    "print('')\n",
    "        \n",
    "# Variable Bounds\n",
    "print('Bounds:')\n",
    "for var in var_lst:\n",
    "    lower = var.lb()\n",
    "    upper = var.ub()\n",
    "    if lower > -infinity and upper == infinity:\n",
    "        print(str(var) + ' >= ' + str(lower))\n",
    "    elif lower == -infinity and upper < infinity:\n",
    "            print(str(var) + ' <= ' + str(upper))\n",
    "    elif lower > -infinity and upper < infinity:\n",
    "        print(str(lower) + ' <= ' + str(var) + ' <= ' + str(upper))    "
   ]
  },
  {
   "cell_type": "code",
   "execution_count": null,
   "metadata": {},
   "outputs": [],
   "source": [
    "# Solve the model and print optimal solution\n",
    "mymodel.Solve()\n",
    "\n",
    "print('Number of variables =', mymodel.NumVariables())\n",
    "print('Number of constraints =', mymodel.NumConstraints())\n",
    "\n",
    "print('Optimal Solution:')\n",
    "\n",
    "# The objective value of the solution.\n",
    "print('Total Profit = %.2f' % TotProfit.Value())\n",
    "\n",
    "# The value of each variable in the solution.\n",
    "for p in range(len(product)):\n",
    "    print('%s = %.2f' % (product[p], dvar[p].solution_value()))\n",
    "\n",
    "# Dual Values (Shadow Prices)\n",
    "for w in range(len(wood)):\n",
    "    print('%s Dual Value = %.2f' % (wood[w], constr[w].dual_value()))"
   ]
  },
  {
   "cell_type": "code",
   "execution_count": null,
   "metadata": {},
   "outputs": [],
   "source": []
  }
 ],
 "metadata": {
  "kernelspec": {
   "display_name": "Python 3",
   "language": "python",
   "name": "python3"
  },
  "language_info": {
   "codemirror_mode": {
    "name": "ipython",
    "version": 3
   },
   "file_extension": ".py",
   "mimetype": "text/x-python",
   "name": "python",
   "nbconvert_exporter": "python",
   "pygments_lexer": "ipython3",
   "version": "3.7.4"
  }
 },
 "nbformat": 4,
 "nbformat_minor": 4
}
