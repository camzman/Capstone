{
 "cells": [
  {
   "cell_type": "markdown",
   "metadata": {},
   "source": [
    "# Traveling Salesman Problem"
   ]
  },
  {
   "cell_type": "markdown",
   "metadata": {},
   "source": [
    "## Filepaths"
   ]
  },
  {
   "cell_type": "code",
   "execution_count": 1,
   "metadata": {},
   "outputs": [],
   "source": [
    "# Set filepath for CSV with cost / distance data\n",
    "cost_filepath = 'Orders_Data_15.csv' # file with distances between each node\n",
    "coord_filepath = 'XYcoord_15.csv' # file with x, y coordinates of each node (including the origin)"
   ]
  },
  {
   "cell_type": "markdown",
   "metadata": {},
   "source": [
    "## Model Initialization"
   ]
  },
  {
   "cell_type": "code",
   "execution_count": 2,
   "metadata": {},
   "outputs": [],
   "source": [
    "# import packages\n",
    "from ortools.linear_solver import pywraplp as glp\n",
    "import csv\n",
    "import pandas as pd\n",
    "import time\n",
    "from datetime import date\n",
    "import numpy as np\n",
    "\n",
    "# initialize MIP model object\n",
    "mymodel = glp.Solver('Traveling Salesman', glp.Solver.CBC_MIXED_INTEGER_PROGRAMMING)"
   ]
  },
  {
   "cell_type": "markdown",
   "metadata": {},
   "source": [
    "## Parameters"
   ]
  },
  {
   "cell_type": "code",
   "execution_count": 3,
   "metadata": {},
   "outputs": [],
   "source": [
    "# import csv distance matrix as list\n",
    "with open(cost_filepath, newline='') as f:\n",
    "    reader = csv.reader(f)\n",
    "    cost = list(reader)\n",
    "\n",
    "# remove blanks & convert to integers\n",
    "for i in range(len(cost)):\n",
    "    cost[i] = [float(item) for item in cost[i] if item]\n",
    "cost = [item for item in cost if item]"
   ]
  },
  {
   "cell_type": "code",
   "execution_count": 4,
   "metadata": {},
   "outputs": [],
   "source": [
    "# model parameters\n",
    "N = len(cost) # number of nodes in data frame\n",
    "M = N + 1000.0 # arbitrarily large number"
   ]
  },
  {
   "cell_type": "code",
   "execution_count": 5,
   "metadata": {},
   "outputs": [
    {
     "data": {
      "text/plain": [
       "16"
      ]
     },
     "execution_count": 5,
     "metadata": {},
     "output_type": "execute_result"
    }
   ],
   "source": [
    "N # number of nodes (including origin)"
   ]
  },
  {
   "cell_type": "markdown",
   "metadata": {},
   "source": [
    "## Decision Variables"
   ]
  },
  {
   "cell_type": "code",
   "execution_count": 6,
   "metadata": {},
   "outputs": [],
   "source": [
    "# Arc variable (1 if arc is used, 0 if not)\n",
    "use_arc = [list(range(1 + N * i, 1 + N * (i+1))) for i in range(N)] \n",
    "for i in range(N):\n",
    "    for j in range(N):\n",
    "        use_arc[i][j] = mymodel.IntVar(0, 1, str(i) + \".\" + str(j))"
   ]
  },
  {
   "cell_type": "code",
   "execution_count": 7,
   "metadata": {},
   "outputs": [],
   "source": [
    "# create position variable (lambda / u)\n",
    "pos = list(range(N))\n",
    "pos[0] = mymodel.IntVar(0, 0, 'p_0')\n",
    "for i in range(1,N):\n",
    "    pos[i] = mymodel.IntVar(1, N-1, \"p_\" + str(i))"
   ]
  },
  {
   "cell_type": "markdown",
   "metadata": {},
   "source": [
    "## Objective"
   ]
  },
  {
   "cell_type": "code",
   "execution_count": 8,
   "metadata": {},
   "outputs": [],
   "source": [
    "# create objective function\n",
    "shortest_route = mymodel.Objective()\n",
    "shortest_route.SetMinimization()\n",
    "for i in range(N):\n",
    "    for j in range(N):\n",
    "        shortest_route.SetCoefficient(use_arc[i][j], cost[i][j])"
   ]
  },
  {
   "cell_type": "markdown",
   "metadata": {},
   "source": [
    "## Constraints"
   ]
  },
  {
   "cell_type": "markdown",
   "metadata": {},
   "source": [
    "### Arc constraints"
   ]
  },
  {
   "cell_type": "code",
   "execution_count": 9,
   "metadata": {},
   "outputs": [],
   "source": [
    "# Flow Out of each node = 1\n",
    "\n",
    "Flow_out = list(range(N))\n",
    "\n",
    "for i in range(N): \n",
    "    Flow_out[i] = mymodel.Constraint(1, 1)\n",
    "    for j in range(N):\n",
    "        if i != j: Flow_out[i].SetCoefficient(use_arc[i][j], 1)\n",
    "        \n",
    "# Flow In to each node = 1\n",
    "\n",
    "Flow_in = list(range(N))\n",
    "\n",
    "for i in range(N):\n",
    "    Flow_in[i] = mymodel.Constraint(1, 1)\n",
    "    for j in range(N): \n",
    "        if i!= j: Flow_in[i].SetCoefficient(use_arc[j][i], 1)"
   ]
  },
  {
   "cell_type": "markdown",
   "metadata": {},
   "source": [
    "### Position Constraints"
   ]
  },
  {
   "cell_type": "code",
   "execution_count": 10,
   "metadata": {},
   "outputs": [],
   "source": [
    "# Miller-Tucker-Zemlin Constraint (eliminates subtours)\n",
    "MTZ = [list(range(1 + N * i, 1 + N * (i+1))) for i in range(N)] \n",
    "\n",
    "for i in range(1,N):\n",
    "    for j in range(1,N):\n",
    "        MTZ[i][j] = mymodel.Constraint(-mymodel.infinity(), N-2)\n",
    "        MTZ[i][j].SetCoefficient(use_arc[i][j], N-1)\n",
    "        MTZ[i][j].SetCoefficient(pos[i], 1)\n",
    "        MTZ[i][j].SetCoefficient(pos[j], -1)"
   ]
  },
  {
   "cell_type": "code",
   "execution_count": 11,
   "metadata": {},
   "outputs": [
    {
     "data": {
      "text/plain": [
       "272"
      ]
     },
     "execution_count": 11,
     "metadata": {},
     "output_type": "execute_result"
    }
   ],
   "source": [
    "mymodel.NumVariables() # Number of Variables"
   ]
  },
  {
   "cell_type": "code",
   "execution_count": 12,
   "metadata": {},
   "outputs": [
    {
     "data": {
      "text/plain": [
       "257"
      ]
     },
     "execution_count": 12,
     "metadata": {},
     "output_type": "execute_result"
    }
   ],
   "source": [
    "mymodel.NumConstraints() # Number of Constraints"
   ]
  },
  {
   "cell_type": "markdown",
   "metadata": {},
   "source": [
    "### Solve"
   ]
  },
  {
   "cell_type": "code",
   "execution_count": 13,
   "metadata": {},
   "outputs": [
    {
     "name": "stdout",
     "output_type": "stream",
     "text": [
      "Solution Status = 0\n",
      "Number of variables = 272\n",
      "Number of constraints = 257\n",
      "Optimal Value = 4055.37\n",
      "Solution Time: 2.17 seconds\n"
     ]
    }
   ],
   "source": [
    "start_time = time.time() # Set Model start time\n",
    "# Solve the model and print optimal solution\n",
    "status = mymodel.Solve()                 # solve mymodel and display the solution\n",
    "\n",
    "print('Solution Status =', status)\n",
    "print('Number of variables =', mymodel.NumVariables())\n",
    "print('Number of constraints =', mymodel.NumConstraints())\n",
    "\n",
    "optimal = shortest_route.Value()\n",
    "cost_optimal = optimal * 10\n",
    "\n",
    "# The objective value of the solution.\n",
    "print('Optimal Value = %.2f' % cost_optimal)\n",
    "\n",
    "print(\"Solution Time: %.2f seconds\" % (time.time() - start_time))\n",
    "runtime = round(time.time() - start_time) # Calculate solution time\n",
    "today = str(date.today()) # Capture today's date"
   ]
  },
  {
   "cell_type": "code",
   "execution_count": 14,
   "metadata": {},
   "outputs": [
    {
     "data": {
      "text/html": [
       "<div>\n",
       "<style scoped>\n",
       "    .dataframe tbody tr th:only-of-type {\n",
       "        vertical-align: middle;\n",
       "    }\n",
       "\n",
       "    .dataframe tbody tr th {\n",
       "        vertical-align: top;\n",
       "    }\n",
       "\n",
       "    .dataframe thead th {\n",
       "        text-align: right;\n",
       "    }\n",
       "</style>\n",
       "<table border=\"1\" class=\"dataframe\">\n",
       "  <thead>\n",
       "    <tr style=\"text-align: right;\">\n",
       "      <th></th>\n",
       "      <th>Position</th>\n",
       "      <th>From</th>\n",
       "      <th>To</th>\n",
       "    </tr>\n",
       "  </thead>\n",
       "  <tbody>\n",
       "    <tr>\n",
       "      <td>0</td>\n",
       "      <td>1</td>\n",
       "      <td>0</td>\n",
       "      <td>7</td>\n",
       "    </tr>\n",
       "    <tr>\n",
       "      <td>1</td>\n",
       "      <td>2</td>\n",
       "      <td>7</td>\n",
       "      <td>13</td>\n",
       "    </tr>\n",
       "    <tr>\n",
       "      <td>2</td>\n",
       "      <td>3</td>\n",
       "      <td>13</td>\n",
       "      <td>11</td>\n",
       "    </tr>\n",
       "    <tr>\n",
       "      <td>3</td>\n",
       "      <td>4</td>\n",
       "      <td>11</td>\n",
       "      <td>15</td>\n",
       "    </tr>\n",
       "    <tr>\n",
       "      <td>4</td>\n",
       "      <td>5</td>\n",
       "      <td>15</td>\n",
       "      <td>1</td>\n",
       "    </tr>\n",
       "    <tr>\n",
       "      <td>5</td>\n",
       "      <td>6</td>\n",
       "      <td>1</td>\n",
       "      <td>5</td>\n",
       "    </tr>\n",
       "    <tr>\n",
       "      <td>6</td>\n",
       "      <td>7</td>\n",
       "      <td>5</td>\n",
       "      <td>14</td>\n",
       "    </tr>\n",
       "    <tr>\n",
       "      <td>7</td>\n",
       "      <td>8</td>\n",
       "      <td>14</td>\n",
       "      <td>4</td>\n",
       "    </tr>\n",
       "    <tr>\n",
       "      <td>8</td>\n",
       "      <td>9</td>\n",
       "      <td>4</td>\n",
       "      <td>2</td>\n",
       "    </tr>\n",
       "    <tr>\n",
       "      <td>9</td>\n",
       "      <td>10</td>\n",
       "      <td>2</td>\n",
       "      <td>12</td>\n",
       "    </tr>\n",
       "    <tr>\n",
       "      <td>10</td>\n",
       "      <td>11</td>\n",
       "      <td>12</td>\n",
       "      <td>9</td>\n",
       "    </tr>\n",
       "    <tr>\n",
       "      <td>11</td>\n",
       "      <td>12</td>\n",
       "      <td>9</td>\n",
       "      <td>6</td>\n",
       "    </tr>\n",
       "    <tr>\n",
       "      <td>12</td>\n",
       "      <td>13</td>\n",
       "      <td>6</td>\n",
       "      <td>8</td>\n",
       "    </tr>\n",
       "    <tr>\n",
       "      <td>13</td>\n",
       "      <td>14</td>\n",
       "      <td>8</td>\n",
       "      <td>10</td>\n",
       "    </tr>\n",
       "    <tr>\n",
       "      <td>14</td>\n",
       "      <td>15</td>\n",
       "      <td>10</td>\n",
       "      <td>3</td>\n",
       "    </tr>\n",
       "    <tr>\n",
       "      <td>15</td>\n",
       "      <td>16</td>\n",
       "      <td>3</td>\n",
       "      <td>0</td>\n",
       "    </tr>\n",
       "  </tbody>\n",
       "</table>\n",
       "</div>"
      ],
      "text/plain": [
       "    Position  From  To\n",
       "0          1     0   7\n",
       "1          2     7  13\n",
       "2          3    13  11\n",
       "3          4    11  15\n",
       "4          5    15   1\n",
       "5          6     1   5\n",
       "6          7     5  14\n",
       "7          8    14   4\n",
       "8          9     4   2\n",
       "9         10     2  12\n",
       "10        11    12   9\n",
       "11        12     9   6\n",
       "12        13     6   8\n",
       "13        14     8  10\n",
       "14        15    10   3\n",
       "15        16     3   0"
      ]
     },
     "execution_count": 14,
     "metadata": {},
     "output_type": "execute_result"
    }
   ],
   "source": [
    "# Create Dataframe with the solution\n",
    "Position = []\n",
    "From = []\n",
    "To = []\n",
    "\n",
    "for i in range(N):\n",
    "    Position.append(int(pos[i].solution_value() + 1))\n",
    "    for j in range(N):\n",
    "        if use_arc[i][j].solution_value() == 1:\n",
    "            From.append(i)\n",
    "            To.append(j)\n",
    "solution = pd.DataFrame(list(zip(Position, From, To)), columns = ['Position', 'From', 'To'])\n",
    "solution = solution.sort_values('Position').reset_index(drop=True)\n",
    "solution"
   ]
  },
  {
   "cell_type": "markdown",
   "metadata": {},
   "source": [
    "## Plot the Solution"
   ]
  },
  {
   "cell_type": "code",
   "execution_count": 15,
   "metadata": {},
   "outputs": [],
   "source": [
    "import matplotlib.pyplot as plt\n",
    "import networkx as nx"
   ]
  },
  {
   "cell_type": "code",
   "execution_count": 16,
   "metadata": {},
   "outputs": [],
   "source": [
    "# import csv x, y coord matrix as list\n",
    "with open(coord_filepath, newline='') as f:\n",
    "    reader = csv.reader(f)\n",
    "    coord = list(reader)\n",
    "\n",
    "# remove blanks & converting to integers\n",
    "for i in range(len(coord)):\n",
    "    coord[i] = [int(item) for item in coord[i] if item]\n",
    "coord = [item for item in coord if item]"
   ]
  },
  {
   "cell_type": "code",
   "execution_count": 17,
   "metadata": {},
   "outputs": [],
   "source": [
    "# Define function to convert list of coordinates to dictionary\n",
    "def to_dict(my_list):\n",
    "    dict = {}\n",
    "    for items in range(len(my_list)):\n",
    "        dict[items] = my_list[items]\n",
    "    return dict"
   ]
  },
  {
   "cell_type": "code",
   "execution_count": 18,
   "metadata": {},
   "outputs": [],
   "source": [
    "# convert list of coordinates to dictionary\n",
    "coord = to_dict(coord) "
   ]
  },
  {
   "cell_type": "code",
   "execution_count": 19,
   "metadata": {},
   "outputs": [],
   "source": [
    "# Define edge list\n",
    "edge_list = []\n",
    "for i in range(len(solution)):\n",
    "    edge_list.append([solution['From'][i], solution['To'][i]])"
   ]
  },
  {
   "cell_type": "code",
   "execution_count": 20,
   "metadata": {},
   "outputs": [],
   "source": [
    "# Initialize graph object\n",
    "G = nx.Graph()"
   ]
  },
  {
   "cell_type": "code",
   "execution_count": 23,
   "metadata": {},
   "outputs": [
    {
     "data": {
      "image/png": "[encoded data removed]",
      "text/plain": [
       "<Figure size 720x720 with 1 Axes>"
      ]
     },
     "metadata": {},
     "output_type": "display_data"
    }
   ],
   "source": [
    "# Add edges to model object\n",
    "for (u,v) in edge_list:\n",
    "    G.add_edge(v, u, capacity=1) \n",
    "\n",
    "# Create plot object\n",
    "fig, ax = plt.subplots(figsize=(10,10))\n",
    "\n",
    "# Draw plot\n",
    "nx.draw(G, coord, edgelist=edge_list, edge_labels=True, with_labels=True, font_color='w', node_color='darkblue', ax=ax)\n",
    "\n",
    "# Set limits\n",
    "limits=plt.axis('on')\n",
    "\n",
    "# Format ticks\n",
    "ax.tick_params(left=True, bottom=True, labelleft=True, labelbottom=True)\n",
    "\n",
    "# Define optimal value & string for plot title\n",
    "opt_val = round(cost_optimal, 2)\n",
    "string = 'TSP Solution - ' + str(N-1) + ' nodes (opt. val: ' + str(opt_val) + ', ' 'sol. time: ' + str(runtime) + ' s)'\n",
    "\n",
    "# Plot title\n",
    "ax.set_title(string, fontsize = 16)\n",
    "plt.show();\n",
    "\n",
    "# Save figure as .png file\n",
    "saveas = 'TSPoutput_' + str(N-1) +'nodes_' + today +'.png'\n",
    "fig.savefig(saveas);"
   ]
  },
  {
   "cell_type": "markdown",
   "metadata": {},
   "source": [
    "### Save solution as CSV"
   ]
  },
  {
   "cell_type": "code",
   "execution_count": 22,
   "metadata": {},
   "outputs": [],
   "source": [
    "saveas_csv = 'TSPoutput_' + str(N-1) +'nodes_' + today +'.csv'\n",
    "solution.to_csv(saveas_csv, index=False)"
   ]
  }
 ],
 "metadata": {
  "kernelspec": {
   "display_name": "Python 3",
   "language": "python",
   "name": "python3"
  },
  "language_info": {
   "codemirror_mode": {
    "name": "ipython",
    "version": 3
   },
   "file_extension": ".py",
   "mimetype": "text/x-python",
   "name": "python",
   "nbconvert_exporter": "python",
   "pygments_lexer": "ipython3",
   "version": "3.7.4"
  }
 },
 "nbformat": 4,
 "nbformat_minor": 4
}
